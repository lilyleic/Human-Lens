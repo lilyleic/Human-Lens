{
 "cells": [
  {
   "cell_type": "markdown",
   "metadata": {
    "collapsed": false,
    "deletable": false,
    "editable": false,
    "nbgrader": {
     "grade": false,
     "grade_id": "cell-d104b72f9b6686a4",
     "locked": true,
     "schema_version": 3,
     "solution": false,
     "task": false
    }
   },
   "source": [
    "# Homework \\#1\n",
    "\n",
    "## PHYS 2600, Fall 2022\n",
    "\n",
    "__Important note on entering text:__  Some of the boxes below ask you to enter some text, with the prompt \"_Type your answer here using Markdown._\"  We haven't learned any Markdown yet - but that's fine!  Regular text is a subset of Markdown, so you should just type plain text into those cells for your answers."
   ]
  },
  {
   "cell_type": "markdown",
   "metadata": {
    "collapsed": false,
    "deletable": false,
    "editable": false,
    "nbgrader": {
     "grade": false,
     "grade_id": "cell-3e1a79382b2e46a0",
     "locked": true,
     "schema_version": 3,
     "solution": false,
     "task": false
    }
   },
   "source": [
    "## 1.1 - Introduction (6 points)"
   ]
  },
  {
   "cell_type": "markdown",
   "metadata": {
    "collapsed": false,
    "deletable": false,
    "editable": false,
    "nbgrader": {
     "grade": false,
     "grade_id": "cell-e41f62c7accecc1e",
     "locked": true,
     "schema_version": 3,
     "solution": false,
     "task": false
    }
   },
   "source": [
    "At this level of study in undergraduate physics, students tend to have a pretty wide range of experience in computing, particularly using it for scientific work.  Tell us a little about your background below.  First, do you have any experience with Python or other programming languages?  If so, how much?"
   ]
  },
  {
   "cell_type": "markdown",
   "metadata": {
    "collapsed": false,
    "deletable": false,
    "nbgrader": {
     "cell_type": "markdown",
     "checksum": "a150de447077067e7fe32e4645583c31",
     "grade": true,
     "grade_id": "intro_background",
     "locked": false,
     "points": 2,
     "schema_version": 3,
     "solution": true,
     "task": false
    }
   },
   "source": [
    "YOUR ANSWER HERE"
   ]
  },
  {
   "cell_type": "markdown",
   "metadata": {
    "collapsed": false
   },
   "source": [
    "Have you taken any computer programming courses before, either here at CU or elsewhere?  If so, what courses did you take?"
   ]
  },
  {
   "cell_type": "markdown",
   "metadata": {
    "collapsed": false,
    "deletable": false,
    "nbgrader": {
     "cell_type": "markdown",
     "checksum": "31a00a959fcd1f24131c73af4c9ff541",
     "grade": true,
     "grade_id": "intro_courses",
     "locked": false,
     "points": 2,
     "schema_version": 3,
     "solution": true,
     "task": false
    }
   },
   "source": [
    "YOUR ANSWER HERE"
   ]
  },
  {
   "cell_type": "markdown",
   "metadata": {
    "collapsed": false
   },
   "source": [
    "After we get through the basics of Python and some standard numerical techniques, we'll have some room to cover more specific examples.  Is there any one subject, physics application or numerical technique, that you'd be especially interested in seeing?  (I may choose from your answers to this question to plan lectures or assignments late in the semester, so this is your chance to guide the class!)"
   ]
  },
  {
   "cell_type": "markdown",
   "metadata": {
    "collapsed": false,
    "deletable": false,
    "nbgrader": {
     "cell_type": "markdown",
     "checksum": "204a1daa944e3549587d83eaf70d0e6f",
     "grade": true,
     "grade_id": "intro_interests",
     "locked": false,
     "points": 2,
     "schema_version": 3,
     "solution": true,
     "task": false
    }
   },
   "source": [
    "YOUR ANSWER HERE"
   ]
  },
  {
   "cell_type": "markdown",
   "metadata": {
    "collapsed": false,
    "deletable": false,
    "editable": false,
    "nbgrader": {
     "grade": false,
     "grade_id": "cell-333bdad2b3171730",
     "locked": true,
     "schema_version": 3,
     "solution": false,
     "task": false
    }
   },
   "source": [
    "## 1.2 - Syntax and Semantics (6 points)"
   ]
  },
  {
   "cell_type": "markdown",
   "metadata": {
    "collapsed": false,
    "deletable": false,
    "editable": false,
    "nbgrader": {
     "grade": false,
     "grade_id": "cell-832d8fbcee4f29b8",
     "locked": true,
     "schema_version": 3,
     "solution": false,
     "task": false
    }
   },
   "source": [
    "Describe in your own words the difference between _syntax_ and _semantics_ in computer programming."
   ]
  },
  {
   "cell_type": "markdown",
   "metadata": {
    "collapsed": false,
    "deletable": false,
    "nbgrader": {
     "cell_type": "markdown",
     "checksum": "0b0f84b56b37722d93b75c18e76e8d55",
     "grade": true,
     "grade_id": "syntax",
     "locked": false,
     "points": 3,
     "schema_version": 3,
     "solution": true,
     "task": false
    }
   },
   "source": [
    "YOUR ANSWER HERE"
   ]
  },
  {
   "cell_type": "markdown",
   "metadata": {
    "collapsed": false,
    "deletable": false,
    "editable": false,
    "nbgrader": {
     "grade": false,
     "grade_id": "cell-ba4850fbccb001f0",
     "locked": true,
     "schema_version": 3,
     "solution": false,
     "task": false
    }
   },
   "source": [
    "Computers aren't able to flexibly interpret what we tell them to do; they are always perfectly literal.  This is a challenge if you're trying to build a computer to handle a complicated and dynamical process, for example building a self-driving car.\n",
    "\n",
    "Look up the turn-by-turn driving directions from Boulder to Denver using [Google Maps](http://maps.google.com/).  Now imagine that a self-driving car has been given these directions and nothing more; what are some ways in which the trip could go horribly wrong, compared to what a human driver would do?  Give an example."
   ]
  },
  {
   "cell_type": "markdown",
   "metadata": {
    "collapsed": false,
    "deletable": false,
    "nbgrader": {
     "cell_type": "markdown",
     "checksum": "a62f17b752b95069b8a75d4af85a88d9",
     "grade": true,
     "grade_id": "self_driving",
     "locked": false,
     "points": 3,
     "schema_version": 3,
     "solution": true,
     "task": false
    }
   },
   "source": [
    "YOUR ANSWER HERE"
   ]
  },
  {
   "cell_type": "markdown",
   "metadata": {
    "collapsed": false,
    "deletable": false,
    "editable": false,
    "nbgrader": {
     "grade": false,
     "grade_id": "cell-beb4405be70a5cec",
     "locked": true,
     "schema_version": 3,
     "solution": false,
     "task": false
    }
   },
   "source": [
    "## 1.3 - Planetary Weight Conversion (4 points)"
   ]
  },
  {
   "cell_type": "markdown",
   "metadata": {
    "collapsed": false,
    "deletable": false,
    "editable": false,
    "nbgrader": {
     "grade": false,
     "grade_id": "cell-1e6e94180c62aa83",
     "locked": true,
     "schema_version": 3,
     "solution": false,
     "task": false
    }
   },
   "source": [
    "Suppose we are standing on an arbitrary planet of mass $M$ and radius $R$.  The force of gravity on us (mass $m$) from the planet is equal to:\n",
    "\n",
    "\\\\[\n",
    "|\\vec{F_g}| = \\frac{GmM}{R^2}.\n",
    "\\\\]\n",
    "\n",
    "In the code cell below, __implement a formula to calculate the weight (in Newtons) on another planet__ of a person who weighs 650 N on the Earth.  Use it for two planets: Mars (save your answer as a variable named `weight_Mars`) and Mercury (saved as `weight_Mercury`.)  Their mass and radius are:\n",
    "\n",
    "* Mars: $R = 0.532 R_E$, $M = 0.107 M_E$\n",
    "* Mercury: $R = 0.383 R_E$, $M = 0.0553 M_E$\n",
    "\n",
    "The correct answer for the person's weight on Mars is given in the test cell below, to help you check your work.  (Tests are always a good idea in computer programming, to make sure the program does what you expect!)  If your answer for `weight_Mars` is correct, the cell will run without error."
   ]
  },
  {
   "cell_type": "code",
   "execution_count": 1,
   "metadata": {
    "collapsed": false,
    "deletable": false,
    "nbgrader": {
     "cell_type": "code",
     "checksum": "44be3b185ace0c621aaca597cfd1dd32",
     "grade": false,
     "grade_id": "planets",
     "locked": false,
     "schema_version": 3,
     "solution": true,
     "task": false
    }
   },
   "outputs": [
   ],
   "source": [
    "weight_Earth = 650  # N\n",
    "\n",
    "# YOUR CODE HERE"
   ]
  },
  {
   "cell_type": "code",
   "execution_count": 2,
   "metadata": {
    "collapsed": false,
    "deletable": false,
    "editable": false,
    "nbgrader": {
     "grade": true,
     "grade_id": "planets_tests",
     "locked": true,
     "points": 4,
     "schema_version": 3,
     "solution": false,
     "task": false
    }
   },
   "outputs": [
    {
     "name": "stdout",
     "output_type": "stream",
     "text": [
      "Weight on Earth: 650 N\n"
     ]
    },
    {
     "ename": "NameError",
     "evalue": "name 'weight_Mars' is not defined",
     "output_type": "error",
     "traceback": [
      "\u001b[0;31m---------------------------------------------------------------------------\u001b[0m",
      "\u001b[0;31mNameError\u001b[0m                                 Traceback (most recent call last)",
      "\u001b[0;32m/tmp/ipykernel_452/4035273970.py\u001b[0m in \u001b[0;36m<cell line: 7>\u001b[0;34m()\u001b[0m\n\u001b[1;32m      5\u001b[0m \u001b[0;34m\u001b[0m\u001b[0m\n\u001b[1;32m      6\u001b[0m \u001b[0mprint\u001b[0m\u001b[0;34m(\u001b[0m\u001b[0;34m\"Weight on Earth: %g N\"\u001b[0m \u001b[0;34m%\u001b[0m \u001b[0mweight_Earth\u001b[0m\u001b[0;34m)\u001b[0m\u001b[0;34m\u001b[0m\u001b[0;34m\u001b[0m\u001b[0m\n\u001b[0;32m----> 7\u001b[0;31m \u001b[0mprint\u001b[0m\u001b[0;34m(\u001b[0m\u001b[0;34m\"Weight on Mars: %d N\"\u001b[0m \u001b[0;34m%\u001b[0m \u001b[0mweight_Mars\u001b[0m\u001b[0;34m)\u001b[0m\u001b[0;34m\u001b[0m\u001b[0;34m\u001b[0m\u001b[0m\n\u001b[0m\u001b[1;32m      8\u001b[0m \u001b[0mprint\u001b[0m\u001b[0;34m(\u001b[0m\u001b[0;34m\"Weight on Mercury: %d N\"\u001b[0m \u001b[0;34m%\u001b[0m \u001b[0mweight_Mercury\u001b[0m\u001b[0;34m)\u001b[0m\u001b[0;34m\u001b[0m\u001b[0;34m\u001b[0m\u001b[0m\n\u001b[1;32m      9\u001b[0m \u001b[0;34m\u001b[0m\u001b[0m\n",
      "\u001b[0;31mNameError\u001b[0m: name 'weight_Mars' is not defined"
     ]
    }
   ],
   "source": [
    "# Testing cell; don't worry about the details yet, \n",
    "# but it should run without error if your answer for Mars in weight_Mars is correct.\n",
    "\n",
    "import numpy.testing as npt\n",
    "\n",
    "print(\"Weight on Earth: %g N\" % weight_Earth)\n",
    "print(\"Weight on Mars: %d N\" % weight_Mars)\n",
    "print(\"Weight on Mercury: %d N\" % weight_Mercury)\n",
    "\n",
    "npt.assert_allclose(weight_Mars, 245, rtol=0.01, atol=0)\n"
   ]
  },
  {
   "cell_type": "markdown",
   "metadata": {
    "collapsed": false,
    "deletable": false,
    "editable": false,
    "nbgrader": {
     "grade": false,
     "grade_id": "cell-73ea0253ebda0428",
     "locked": true,
     "schema_version": 3,
     "solution": false,
     "task": false
    }
   },
   "source": [
    "## 1.4 - Mistakes Were Made (9 points)"
   ]
  },
  {
   "cell_type": "markdown",
   "metadata": {
    "collapsed": false,
    "deletable": false,
    "editable": false,
    "nbgrader": {
     "grade": false,
     "grade_id": "cell-45671eed566d4588",
     "locked": true,
     "schema_version": 3,
     "solution": false,
     "task": false
    }
   },
   "source": [
    "All three of the following code examples are implemented incorrectly, containing one or more errors that prevent them from running.  __Fix the code in each example__ to run the correct formula, and give the right answer.\n",
    "\n",
    "(_Note:_ I emphasize that you have to fix the code and run the correct formula in full - no credit for just entering `print(right answer)`!)\n",
    "\n",
    "### Part A (3 points)\n",
    "\n",
    "__Q:__ What is the kinetic energy of a 1500 kg car moving at 12 m/s?\n",
    "\n",
    "__Formula:__ $KE = \\frac{1}{2} m v^2$\n",
    "\n",
    "__A:__ We should get 108,000 J as the answer.\n",
    "\n",
    "Copy and paste into the code cell below, and run to see what is wrong.  Then fix the mistakes and run it again.\n",
    "\n",
    "```python\n",
    "kinetic-energy = (1/2) * 1500 * v^2\n",
    "\n",
    "print(kinetic-energy)\n",
    "\n",
    "```"
   ]
  },
  {
   "cell_type": "code",
   "execution_count": 3,
   "metadata": {
    "collapsed": false,
    "deletable": false,
    "nbgrader": {
     "cell_type": "code",
     "checksum": "2ef3644bb1b14db9c8108cf3cdcfbc95",
     "grade": true,
     "grade_id": "cell-057f944b5694a43a",
     "locked": false,
     "points": 3,
     "schema_version": 3,
     "solution": true,
     "task": false
    }
   },
   "outputs": [
   ],
   "source": [
    "# YOUR CODE HERE\n"
   ]
  },
  {
   "cell_type": "markdown",
   "metadata": {
    "collapsed": false,
    "deletable": false,
    "editable": false,
    "nbgrader": {
     "grade": false,
     "grade_id": "cell-801c70d303626dcb",
     "locked": true,
     "schema_version": 3,
     "solution": false,
     "task": false
    }
   },
   "source": [
    "### Part B (3 points)\n",
    "\n",
    "__Q:__ An air hockey puck is measured at coordinates x=30 cm, y=30 cm.  How far is it from the origin?\n",
    "\n",
    "__Formula:__ $d = \\sqrt{x^2 + y^2}$\n",
    "\n",
    "__A:__ We should get 42.4 cm.\n",
    "\n",
    "Copy and paste into the code cell below, then fix the mistakes.\n",
    "\n",
    "```python\n",
    "x = 30\n",
    "    y = 30\n",
    "\n",
    "    d = x**2 + y**2**(1//2)\n",
    "\n",
    "print(d)\n",
    "```"
   ]
  },
  {
   "cell_type": "code",
   "execution_count": 4,
   "metadata": {
    "collapsed": false,
    "deletable": false,
    "nbgrader": {
     "cell_type": "code",
     "checksum": "06ce3546a2673f123e9b87a7969e200e",
     "grade": true,
     "grade_id": "mistakes_2",
     "locked": false,
     "points": 3,
     "schema_version": 3,
     "solution": true,
     "task": false
    }
   },
   "outputs": [
   ],
   "source": [
    "# YOUR CODE HERE\n"
   ]
  },
  {
   "cell_type": "markdown",
   "metadata": {
    "collapsed": false,
    "deletable": false,
    "editable": false,
    "nbgrader": {
     "grade": false,
     "grade_id": "cell-d9eb95e577facaf8",
     "locked": true,
     "schema_version": 3,
     "solution": false,
     "task": false
    }
   },
   "source": [
    "### Part C (3 points)\n",
    "\n",
    "__Q:__ A block weighing 800 grams sits on a surface with coefficient of static friction $\\mu$ = 0.22.  How much force is required to overcome static friction?  (Take g = 9.8 m/s^2.)\n",
    "\n",
    "__Formula:__ $F_f = \\mu m g$\n",
    "\n",
    "__A:__ The force required is about 1.72 N.\n",
    "\n",
    "Copy and paste into the code cell below, then fix the mistakes.\n",
    "\n",
    "```python\n",
    "mu = '0.22'\n",
    "F_N = 800 * 9.8\n",
    "F_f = mu * F_N\n",
    "\n",
    "print F_f\n",
    "```"
   ]
  },
  {
   "cell_type": "code",
   "execution_count": 5,
   "metadata": {
    "collapsed": false,
    "deletable": false,
    "nbgrader": {
     "cell_type": "code",
     "checksum": "1381d13c47df9f2b5051660fd5724b1e",
     "grade": true,
     "grade_id": "mistakes_3",
     "locked": false,
     "points": 3,
     "schema_version": 3,
     "solution": true,
     "task": false
    }
   },
   "outputs": [
   ],
   "source": [
    "# YOUR CODE HERE\n"
   ]
  }
 ],
 "metadata": {
  "celltoolbar": "Create Assignment",
  "kernelspec": {
   "display_name": "Python 3 (system-wide)",
   "language": "python",
   "metadata": {
    "cocalc": {
     "description": "Python 3 programming language",
     "priority": 100,
     "url": "https://www.python.org/"
    }
   },
   "name": "python3",
   "resource_dir": "/ext/jupyter/kernels/python3"
  },
  "language_info": {
   "codemirror_mode": {
    "name": "ipython",
    "version": 3
   },
   "file_extension": ".py",
   "mimetype": "text/x-python",
   "name": "python",
   "nbconvert_exporter": "python",
   "pygments_lexer": "ipython3",
   "version": "3.9.13"
  },
  "nbgrader": {
   "__altered": false,
   "__hash": -335098374,
   "_root": {
    "entries": [
     [
      "cocalc_minimal_stubs",
      false
     ]
    ],
    "ownerID": {
    }
   },
   "cocalc_minimal_stubs": true,
   "size": 1
  }
 },
 "nbformat": 4,
 "nbformat_minor": 4
}