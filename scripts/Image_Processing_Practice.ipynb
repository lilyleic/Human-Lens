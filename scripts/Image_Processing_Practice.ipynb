{
 "cells": [
  {
   "cell_type": "markdown",
   "metadata": {},
   "source": [
    "# Image Processing Practice\n"
   ]
  },
  {
   "cell_type": "code",
   "execution_count": 3,
   "metadata": {},
   "outputs": [
    {
     "ename": "ModuleNotFoundError",
     "evalue": "No module named 'skimage'",
     "output_type": "error",
     "traceback": [
      "\u001b[0;31m---------------------------------------------------------------------------\u001b[0m",
      "\u001b[0;31mModuleNotFoundError\u001b[0m                       Traceback (most recent call last)",
      "\u001b[1;32mUntitled-1.ipynb Cell 2\u001b[0m in \u001b[0;36m<cell line: 1>\u001b[0;34m()\u001b[0m\n\u001b[0;32m----> <a href='vscode-notebook-cell:Untitled-1.ipynb?jupyter-notebook#W2sdW50aXRsZWQ%3D?line=0'>1</a>\u001b[0m \u001b[39mfrom\u001b[39;00m \u001b[39mskimage\u001b[39;00m \u001b[39mimport\u001b[39;00m io\n\u001b[1;32m      <a href='vscode-notebook-cell:Untitled-1.ipynb?jupyter-notebook#W2sdW50aXRsZWQ%3D?line=2'>3</a>\u001b[0m \u001b[39mfrom\u001b[39;00m \u001b[39mmatplotlib\u001b[39;00m \u001b[39mimport\u001b[39;00m pyplot \u001b[39mas\u001b[39;00m plt\n\u001b[1;32m      <a href='vscode-notebook-cell:Untitled-1.ipynb?jupyter-notebook#W2sdW50aXRsZWQ%3D?line=4'>5</a>\u001b[0m img \u001b[39m=\u001b[39m io\u001b[39m.\u001b[39mimread(\u001b[39m\"\u001b[39m\u001b[39mimages/test_image.jpg\u001b[39m\u001b[39m\"\u001b[39m, as_gray\u001b[39m=\u001b[39m\u001b[39mTrue\u001b[39;00m) \u001b[39m#How to get image as grayscale\u001b[39;00m\n",
      "\u001b[0;31mModuleNotFoundError\u001b[0m: No module named 'skimage'"
     ]
    }
   ],
   "source": [
    "from skimage import io\n",
    "\n",
    "from matplotlib import pyplot as plt\n",
    "\n",
    "img = io.imread(\"images/test_image.jpg\", as_gray=True) #How to get image as grayscale\n",
    "\n",
    "from skimage.transform import rescale, resize, downscale_local_mean\n",
    "\n",
    "rescale_img = rescale(img, 1.0/4.0, anti_aliasing=True)\n",
    "resized_img = resize(img, (200,200))\n",
    "downscaled_img = downscale_local_mean(img,(4,3))\n",
    "plt.imshow(downscaled_img)\n"
   ]
  },
  {
   "cell_type": "markdown",
   "metadata": {},
   "source": [
    "- Edge filtering:"
   ]
  },
  {
   "cell_type": "code",
   "execution_count": null,
   "metadata": {},
   "outputs": [],
   "source": [
    "from skimage import io\n",
    "\n",
    "from matplotlib import pyplot as plt\n",
    "\n",
    "img = io.imread(\"images/test_image_cropped.jpg\", as_gray=True) #How to get image as grayscale\n",
    "print(img.shape) #Dimensions of image\n",
    "\n",
    "from skimage.filters import roberts, sobel, scharr, prewitt\n",
    "\n",
    "edge_roberts = roberts(img) #Edge filtering\n",
    "edge_sobel = sobel(img)\n",
    "edge_scharr = shcarr(img)\n",
    "edge_prewitt = prewitt(img)\n",
    "plt.imshow(edge_roberts, cmap='gray')\n",
    "\n",
    "from skimage.feature import canny\n",
    "edge_canny = canny(img, sigma=3) #Same format but can input sigma (controls amount of edge detection), canny can do a lot (not just edge detection)\n",
    "plt.imshow(edge_canny)\n"
   ]
  },
  {
   "cell_type": "markdown",
   "metadata": {},
   "source": [
    "- Play with different filters to see how the filter edges\n",
    "- experiment with sigma values\n",
    "\n",
    "## Deconvolution\n",
    "- when shine light on wall, light spreads out and you see a halo\n",
    "- if you know how the halo was formed, then you can put all of the \"halo\" pixels, and put them where you originally wanted them to be\n",
    "- requires original image and point-spread function (psf; matrix of numbers that describes why we think picture is blurred)\n",
    "- sharpens image"
   ]
  },
  {
   "cell_type": "code",
   "execution_count": null,
   "metadata": {},
   "outputs": [],
   "source": [
    "from skimage import io\n",
    "\n",
    "from matplotlib import pyplot as plt\n",
    "\n",
    "img = io.imread(\"images/test_image_cropped.jpg\", as_gray=True) #How to get image as grayscale\n",
    "\n",
    "from skimage import restoration\n",
    "\n",
    "import numpy as np\n",
    "psf = np.ones((3,3)) / 9 #3x3 matrix with nine ones\n",
    "\n",
    "deconvolved, _ = restoration.unsupervised_wiener(img, psf)"
   ]
  },
  {
   "cell_type": "markdown",
   "metadata": {},
   "source": [
    "### Real World Scenario\n",
    "- analyzing scratched image\n",
    "- for an image that shows a bunch of cells, but one area that's scratched (no cells) how big is that scratched region"
   ]
  },
  {
   "cell_type": "code",
   "execution_count": null,
   "metadata": {},
   "outputs": [],
   "source": [
    "import matplotlib.pyplot as plt\n",
    "from skimage import io, restoration\n",
    "from skimage.filters.rank import entropy\n",
    "from skimage.morphology import disk\n",
    "\n",
    "img = io.imread(\"images/scratch.jpg\")\n",
    "entropy_img = entropy(img, disk(10))\n",
    "plt.imshow(entropy_img, cmap='gray') \n",
    "#makes areas with lots of cells white and area with no cells (scratch) dark\n",
    "\n",
    "from skimage.filters import try_all_threshold\n",
    "\n",
    "fig, ax = try_all_threshold(entropy_img, figsize=(10,8), verbose=False)\n",
    "plt.show\n",
    "# takes image and calculates threshold based on what \"try_all_threshold\" is\n"
   ]
  },
  {
   "cell_type": "markdown",
   "metadata": {},
   "source": [
    "- original image wasn't suitable for analyzing, so applied entropy filter which makes image \"thresholdable\" (?)"
   ]
  },
  {
   "cell_type": "code",
   "execution_count": null,
   "metadata": {},
   "outputs": [],
   "source": [
    "import matplotlib.pyplot as plt\n",
    "from skimage import io, restoration\n",
    "from skimage.filters.rank import entropy\n",
    "from skimage.morphology import disk\n",
    "import numpy as np\n",
    "\n",
    "img = io.imread(\"images/scratch.jpg\")\n",
    "entropy_img = entropy(img, disk(10))\n",
    "plt.imshow(entropy_img, cmap='gray') \n",
    "#makes areas with lots of cells white and area with no cells (scratch) dark\n",
    "\n",
    "from skimage.filters import try_all_threshold\n",
    "\n",
    "from skimage.filters import threshold_otsu\n",
    "thresh = threshold_otsu(entropy_img)\n",
    "\n",
    "binary = entropy_img <= thresh #all dark pixels are true, white ones are false\n",
    "plt.imshow(binary, cmap='gray')\n",
    "print('The percent bright pixels is: ', (np.sum(binary==1)*100/((np.sum(binary==1))+(np.sum(binary==0)))"
   ]
  },
  {
   "cell_type": "markdown",
   "metadata": {},
   "source": [
    "- theshold_otsu won't give image, but will give a value which is the threshold (?) for the specific image"
   ]
  }
 ],
 "metadata": {
  "kernelspec": {
   "display_name": "Python 3.9.13 64-bit",
   "language": "python",
   "name": "python3"
  },
  "language_info": {
   "codemirror_mode": {
    "name": "ipython",
    "version": 3
   },
   "file_extension": ".py",
   "mimetype": "text/x-python",
   "name": "python",
   "nbconvert_exporter": "python",
   "pygments_lexer": "ipython3",
   "version": "3.9.13"
  },
  "orig_nbformat": 4,
  "vscode": {
   "interpreter": {
    "hash": "aee8b7b246df8f9039afb4144a1f6fd8d2ca17a180786b69acc140d282b71a49"
   }
  }
 },
 "nbformat": 4,
 "nbformat_minor": 2
}
