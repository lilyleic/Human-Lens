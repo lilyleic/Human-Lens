{
 "cells": [
  {
   "cell_type": "markdown",
   "metadata": {},
   "source": []
  },
  {
   "cell_type": "markdown",
   "metadata": {},
   "source": [
    "## Zero-th Steps\n",
    "\n",
    "Make an environment by running:\n",
    "\n",
    "`python -m venv .venv`"
   ]
  },
  {
   "cell_type": "markdown",
   "metadata": {},
   "source": [
    "Then activate it\n",
    "\n",
    "`source .venv/bin/activate`"
   ]
  },
  {
   "cell_type": "markdown",
   "metadata": {},
   "source": [
    "Finally, install the required dependencies\n",
    "\n",
    "`pip install -r requirements.txt`"
   ]
  },
  {
   "cell_type": "markdown",
   "metadata": {},
   "source": [
    "Next time you use the project, just activate the environment with\n",
    "\n",
    "`source .venv/bin/activate`"
   ]
  },
  {
   "cell_type": "markdown",
   "metadata": {},
   "source": [
    "if your python gets borked, just run\n",
    "\n",
    "`deactivate && rm -rf .venv`\n",
    "\n",
    "Then reinitialize the environment with the steps above."
   ]
  },
  {
   "cell_type": "markdown",
   "metadata": {},
   "source": [
    "# First Steps\n",
    "\n",
    "We are going to first load our image and show it with `Plotly.express.imshow`"
   ]
  },
  {
   "cell_type": "code",
   "execution_count": null,
   "metadata": {
    "vscode": {
     "languageId": "shellscript"
    }
   },
   "outputs": [],
   "source": []
  },
  {
   "cell_type": "code",
   "execution_count": 3,
   "metadata": {},
   "outputs": [],
   "source": [
    "from pathlib import Path\n",
    "import plotly.express as px\n",
    "from skimage import io\n",
    "PROJECT_ROOT = Path('../')\n",
    "\n",
    "filename = Path(PROJECT_ROOT,'data','1.5m.png')\n",
    "image = io.imread(filename)\n"
   ]
  },
  {
   "cell_type": "code",
   "execution_count": null,
   "metadata": {},
   "outputs": [],
   "source": [
    "px.imshow(image)"
   ]
  },
  {
   "cell_type": "markdown",
   "metadata": {},
   "source": [
    "## Preproccess The Image\n",
    "\n",
    "Let's convert to grayscale and then normalize the intensity of the image. We'll convert the image to a `float` image type with image where the range for each 'pixel' (matrix element) will be in the range `[0, 1]`."
   ]
  },
  {
   "cell_type": "code",
   "execution_count": 5,
   "metadata": {},
   "outputs": [],
   "source": [
    "from skimage import color, img_as_float, exposure\n",
    "import numpy \n",
    "\n",
    "def preproccess(filename):\n",
    "    \"\"\"\n",
    "    Takes an input image and returns the preprocessed image.\n",
    "\n",
    "    Args:\n",
    "        filename (str): A valid path to the image.\n",
    "    Returns:\n",
    "        numpy.array: the gray and rescaled input image\n",
    "    \"\"\"\n",
    "    assert(Path(filename).exists())\n",
    "    result = io.imread(filename, as_gray = True)\n",
    "    result = img_as_float(exposure.rescale_intensity(result, in_range='float',out_range=(0,1)))\n",
    "    return result\n"
   ]
  },
  {
   "cell_type": "code",
   "execution_count": null,
   "metadata": {},
   "outputs": [],
   "source": []
  },
  {
   "cell_type": "code",
   "execution_count": 6,
   "metadata": {},
   "outputs": [],
   "source": [
    "image_preprocess = preproccess(filename)"
   ]
  },
  {
   "cell_type": "code",
   "execution_count": null,
   "metadata": {
    "pycharm": {
     "is_executing": true
    }
   },
   "outputs": [],
   "source": [
    "px.imshow(image_preprocess)"
   ]
  },
  {
   "cell_type": "markdown",
   "metadata": {},
   "source": [
    "## First Swing At Quantifying Image Focus\n",
    "\n",
    "Let's model the bright spot in the center as a gaussian. We can \"extract\" it using image segmentation.\n",
    "\n",
    "The idea is to:\n",
    "\n",
    "1. Segment the image with scikit \n",
    "2. Fit the 'extracted' bright spot to a gaussian with azumuthal symmetry\n",
    " \n",
    " $$f(x,y) = N \\times \\exp \\left ( - \\frac{(x-a)^2 + (y-b)^2 }{2\\sigma^2}\\right)$$\n",
    "\n",
    "- $a,b$ gaussian center is a free parameter\n",
    "- $\\sigma$ gaussian width is a free parameter\n",
    "\n"
   ]
  },
  {
   "cell_type": "markdown",
   "metadata": {},
   "source": [
    "To have a taste of fitting, I suggest looking up the scipy.optimize documentation https://docs.scipy.org/doc/scipy/reference/optimize.html"
   ]
  },
  {
   "cell_type": "markdown",
   "metadata": {},
   "source": []
  }
 ],
 "metadata": {
  "kernelspec": {
   "display_name": "Python 3.10.8 ('.venv': venv)",
   "language": "python",
   "name": "python3"
  },
  "language_info": {
   "codemirror_mode": {
    "name": "ipython",
    "version": 3
   },
   "file_extension": ".py",
   "mimetype": "text/x-python",
   "name": "python",
   "nbconvert_exporter": "python",
   "pygments_lexer": "ipython3",
   "version": "3.10.8"
  },
  "vscode": {
   "interpreter": {
    "hash": "767e564283c977de8f778a0e51c7d11875a35baab2e0d0124f23ab6eb507c14c"
   }
  }
 },
 "nbformat": 4,
 "nbformat_minor": 2
}
