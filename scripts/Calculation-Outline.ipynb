{
 "cells": [
  {
   "cell_type": "markdown",
   "metadata": {},
   "source": []
  },
  {
   "cell_type": "markdown",
   "metadata": {},
   "source": [
    "# First Steps\n",
    "\n",
    "We are going to first load our image and show it with `Plotly.express.imshow`"
   ]
  },
  {
   "cell_type": "code",
   "execution_count": null,
   "metadata": {},
   "outputs": [],
   "source": [
    "from pathlib import Path\n",
    "import plotly.express as px\n",
    "from skimage import io\n",
    "\n",
    "filename = Path('data/1.5m.png')\n",
    "image = io.imread(filename)\n"
   ]
  },
  {
   "cell_type": "code",
   "execution_count": null,
   "metadata": {},
   "outputs": [],
   "source": [
    "px.imshow(image)"
   ]
  },
  {
   "cell_type": "markdown",
   "metadata": {},
   "source": [
    "## Preproccess The Image\n",
    "\n",
    "Let's convert to grayscale and then normalize the intensity of the image. We'll convert the image to a `float` image type with image where the range for each 'pixel' (matrix element) will be in the range `[0, 1]`."
   ]
  },
  {
   "cell_type": "code",
   "execution_count": null,
   "metadata": {},
   "outputs": [],
   "source": [
    "from skimage import color, img_as_float, exposure\n",
    "import numpy \n",
    "\n",
    "def preproccess(filename):\n",
    "    \"\"\"\n",
    "    Takes an input image and returns the preprocessed image.\n",
    "\n",
    "    Args:\n",
    "        filename (str): A valid path to the image.\n",
    "    Returns:\n",
    "        numpy.array: the gray and rescaled input image\n",
    "    \"\"\"\n",
    "    assert(Path(filename).exists())\n",
    "    result = io.imread(filename, as_gray = True)\n",
    "    result = img_as_float(exposure.rescale_intensity(result, in_range='float',out_range=(0,1)))\n",
    "    return result\n"
   ]
  },
  {
   "cell_type": "code",
   "execution_count": null,
   "metadata": {},
   "outputs": [],
   "source": [
    "image_preprocess = preproccess(filename)"
   ]
  },
  {
   "cell_type": "code",
   "execution_count": null,
   "metadata": {},
   "outputs": [],
   "source": [
    "px.imshow(image_preprocess)"
   ]
  },
  {
   "cell_type": "code",
   "execution_count": null,
   "metadata": {},
   "outputs": [],
   "source": [
    "%ls ../../"
   ]
  },
  {
   "cell_type": "code",
   "execution_count": null,
   "metadata": {},
   "outputs": [],
   "source": []
  }
 ],
 "metadata": {
  "kernelspec": {
   "display_name": "Python 3 (ipykernel)",
   "language": "python",
   "name": "python3"
  },
  "language_info": {
   "codemirror_mode": {
    "name": "ipython",
    "version": 3
   },
   "file_extension": ".py",
   "mimetype": "text/x-python",
   "name": "python",
   "nbconvert_exporter": "python",
   "pygments_lexer": "ipython3",
   "version": "3.10.6 | packaged by conda-forge | (main, Aug 22 2022, 20:36:39) [GCC 10.4.0]"
  },
  "orig_nbformat": 4,
  "vscode": {
   "interpreter": {
    "hash": "9d1c3e3d1d132dfb2127ab781d488309fc0120527f793f02d48417dbc38d60e2"
   }
  }
 },
 "nbformat": 4,
 "nbformat_minor": 2
}
