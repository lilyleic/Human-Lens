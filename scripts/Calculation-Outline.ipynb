{
 "cells": [
  {
   "cell_type": "markdown",
   "metadata": {},
   "source": []
  },
  {
   "cell_type": "markdown",
   "metadata": {},
   "source": [
    "## Zero-th Steps\n",
    "\n",
    "Make an environment by running:\n",
    "\n",
    "`python -m venv .venv`"
   ]
  },
  {
   "cell_type": "markdown",
   "metadata": {},
   "source": [
    "Then activate it\n",
    "\n",
    "`source .venv/bin/activate`"
   ]
  },
  {
   "cell_type": "markdown",
   "metadata": {},
   "source": [
    "Finally, install the required dependencies\n",
    "\n",
    "`pip install -r requirements.txt`"
   ]
  },
  {
   "cell_type": "markdown",
   "metadata": {},
   "source": [
    "Next time you use the project, just activate the environment with\n",
    "\n",
    "`source .venv/bin/activate`"
   ]
  },
  {
   "cell_type": "markdown",
   "metadata": {},
   "source": [
    "if your python gets borked, just run\n",
    "\n",
    "`deactivate && rm -rf .venv`\n",
    "\n",
    "Then reinitialize the environment with the steps above."
   ]
  },
  {
   "cell_type": "markdown",
   "metadata": {},
   "source": [
    "# First Steps\n",
    "\n",
    "We are going to first load our image and show it with `Plotly.express.imshow`"
   ]
  },
  {
   "cell_type": "code",
   "execution_count": null,
   "metadata": {
    "vscode": {
     "languageId": "shellscript"
    }
   },
   "outputs": [],
   "source": []
  },
  {
   "cell_type": "code",
   "execution_count": null,
   "metadata": {},
   "outputs": [],
   "source": [
    "from pathlib import Path\n",
    "import plotly.express as px\n",
    "from skimage import io\n",
    "PROJECT_ROOT = Path('../')\n",
    "\n",
    "filename = Path(PROJECT_ROOT,'data','1.5m.png')\n",
    "image = io.imread(filename)\n"
   ]
  },
  {
   "cell_type": "code",
   "execution_count": null,
   "metadata": {},
   "outputs": [],
   "source": [
    "px.imshow(image)"
   ]
  },
  {
   "cell_type": "markdown",
   "metadata": {},
   "source": [
    "## Preproccess The Image\n",
    "\n",
    "Let's convert to grayscale and then normalize the intensity of the image. We'll convert the image to a `float` image type with image where the range for each 'pixel' (matrix element) will be in the range `[0, 1]`."
   ]
  },
  {
   "cell_type": "code",
   "execution_count": null,
   "metadata": {},
   "outputs": [],
   "source": [
    "from skimage import color, img_as_float, exposure\n",
    "import numpy \n",
    "\n",
    "def preproccess(filename):\n",
    "    \"\"\"\n",
    "    Takes an input image and returns the preprocessed image.\n",
    "\n",
    "    Args:\n",
    "        filename (str): A valid path to the image.\n",
    "    Returns:\n",
    "        numpy.array: the gray and rescaled input image\n",
    "    \"\"\"\n",
    "    assert(Path(filename).exists())\n",
    "    result = io.imread(filename, as_gray = True)\n",
    "    result = img_as_float(exposure.rescale_intensity(result, in_range='float',out_range=(0,1)))\n",
    "    return result\n"
   ]
  },
  {
   "cell_type": "code",
   "execution_count": null,
   "metadata": {},
   "outputs": [],
   "source": [
    "image_preprocess = preproccess(filename)"
   ]
  },
  {
   "cell_type": "code",
   "execution_count": null,
   "metadata": {
    "pycharm": {
     "is_executing": true
    }
   },
   "outputs": [],
   "source": [
    "px.imshow(image_preprocess)"
   ]
  },
  {
   "cell_type": "markdown",
   "metadata": {},
   "source": [
    "## First Swing At Quantifying Image Focus\n",
    "\n",
    "Let's model the bright spot in the center as a gaussian. We can \"extract\" it using image segmentation.\n",
    "\n",
    "The idea is to:\n",
    "\n",
    "1. Segment the image with scikit \n",
    "2. Fit the 'extracted' bright spot to a gaussian with azumuthal symmetry\n",
    " \n",
    " $$f(x,y) = N \\times \\exp \\left ( - \\frac{(x-a)^2 + (y-b)^2 }{2\\sigma^2}\\right)$$\n",
    "\n",
    "- $a,b$ gaussian center is a free parameter\n",
    "- $\\sigma$ gaussian width is a free parameter\n",
    "\n"
   ]
  },
  {
   "cell_type": "markdown",
   "metadata": {},
   "source": [
    "To have a taste of fitting, I suggest looking up the scipy.optimize documentation https://docs.scipy.org/doc/scipy/reference/optimize.html"
   ]
  },
  {
   "cell_type": "code",
   "execution_count": null,
   "metadata": {},
   "outputs": [],
   "source": [
    "from skimage import data\n",
    "from skimage.exposure import histogram\n",
    "import numpy as np\n",
    "from skimage.filters import sobel\n",
    "import plotly.express as px\n",
    " \n",
    "img = image_preprocess\n",
    "hist, hist_centers = histogram(img)\n",
    "elevation_map = sobel(img)\n",
    "px.imshow(elevation_map)\n"
   ]
  },
  {
   "cell_type": "code",
   "execution_count": null,
   "metadata": {},
   "outputs": [],
   "source": [
    "from skimage import data\n",
    "from skimage.exposure import histogram\n",
    "import numpy as np\n",
    "from skimage.filters import try_all_threshold\n",
    "import plotly.express as px\n",
    " \n",
    "img = image_preprocess\n",
    "hist, hist_centers = histogram(img)\n",
    "elevation_map = try_all_threshold(img)\n",
    "px.imshow(elevation_map)"
   ]
  },
  {
   "cell_type": "code",
   "execution_count": null,
   "metadata": {},
   "outputs": [],
   "source": [
    "from skimage import data\n",
    "from skimage.exposure import histogram\n",
    "import numpy as np\n",
    "from skimage.filters import difference_of_gaussians\n",
    "import plotly.express as px\n",
    " \n",
    "img = image_preprocess\n",
    "hist, hist_centers = histogram(img)\n",
    "elevation_map = difference_of_gaussians(img, 5)\n",
    "px.imshow(elevation_map)"
   ]
  },
  {
   "cell_type": "code",
   "execution_count": null,
   "metadata": {},
   "outputs": [],
   "source": []
  }
 ],
 "metadata": {
  "kernelspec": {
   "display_name": "Python 3.9.12 ('.venv': venv)",
   "language": "python",
   "name": "python3"
  },
  "language_info": {
   "codemirror_mode": {
    "name": "ipython",
    "version": 3
   },
   "file_extension": ".py",
   "mimetype": "text/x-python",
   "name": "python",
   "nbconvert_exporter": "python",
   "pygments_lexer": "ipython3",
   "version": "3.9.12"
  },
  "vscode": {
   "interpreter": {
    "hash": "21c18a6cb25e9a4839ed9e69ef4f9f6d6ad064666a30129508f784f8fbd462da"
   }
  }
 },
 "nbformat": 4,
 "nbformat_minor": 2
}
