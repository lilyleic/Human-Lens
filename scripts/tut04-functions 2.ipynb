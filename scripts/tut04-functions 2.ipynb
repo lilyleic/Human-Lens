{
 "cells": [
  {
   "cell_type": "markdown",
   "metadata": {
    "collapsed": false,
    "deletable": false,
    "editable": false,
    "nbgrader": {
     "grade": false,
     "grade_id": "cell-62e68fb2d6d46b56",
     "locked": true,
     "schema_version": 3,
     "solution": false,
     "task": false
    }
   },
   "source": [
    "# Tutorial 4: Functions and Scope\n",
    "\n",
    "## PHYS 2600, Fall 2022"
   ]
  },
  {
   "cell_type": "markdown",
   "metadata": {
    "collapsed": false,
    "deletable": false,
    "editable": false,
    "nbgrader": {
     "grade": false,
     "grade_id": "cell-de20475ba0719791",
     "locked": true,
     "schema_version": 3,
     "solution": false,
     "task": false
    }
   },
   "source": [
    "## T4.1 - A deep dive with variables and scope\n",
    "\n",
    "_(Special note: part A of this first problem is a __worked example__, which we'll go through together in class.  You are encouraged to fill this in as you follow along, but you won't be graded on whether you've completed it or not.)_\n",
    "\n",
    "### Part A\n",
    "\n",
    "Let's dig into a more complicated example of a function definition, and see what's happening with variables and their scope, line by line.  We'll make the function itself really simple: it will be called `triple(x)`, and will return 3 times whatever `x` is.  \n",
    "\n",
    "Consider the following code, but __do not run it yet:__"
   ]
  },
  {
   "cell_type": "code",
   "execution_count": 8,
   "metadata": {
    "collapsed": false,
    "deletable": false,
    "editable": false,
    "nbgrader": {
     "grade": false,
     "grade_id": "cell-83411ffd054df466",
     "locked": true,
     "schema_version": 3,
     "solution": false,
     "task": false
    }
   },
   "outputs": [
    {
     "name": "stdout",
     "output_type": "stream",
     "text": [
      "Inside triple, x is: 3 and y is: 3\n",
      "Inside triple, x is: 4 and y is: 3\n",
      "Triple sum: 21\n",
      "At the end, x is: 2\n"
     ]
    }
   ],
   "source": [
    "x=2\n",
    "y=3\n",
    "\n",
    "def triple(x):\n",
    "    print(\"Inside triple, x is:\", x, \"and y is:\", y)\n",
    "    z=3*x\n",
    "    return z\n",
    "\n",
    "print(\"Triple sum:\", triple(3) + triple(4))\n",
    "print(\"At the end, x is:\", x)"
   ]
  },
  {
   "cell_type": "markdown",
   "metadata": {
    "collapsed": false,
    "deletable": false,
    "editable": false,
    "nbgrader": {
     "grade": false,
     "grade_id": "cell-d4c4aa9b7d836a5e",
     "locked": true,
     "schema_version": 3,
     "solution": false,
     "task": false
    }
   },
   "source": [
    "Now, let's make sure we understand how variables and scope work by __predicting what will happen in the code, step by step.__  In class, I'll do this (with your help!) at the blackboard.  If you're working this exercise at home, make a blank Markdown cell or use a sheet of paper to predict what the code will do.  \n",
    "\n",
    "For context, here's an example sketch of what the global and local namespaces look like after we call `triple(4)`:\n",
    "\n",
    "<img src=\"https://physicscourses.colorado.edu/phys2600/phys2600_sp19/img/scopes.png\" width=500px />\n",
    "\n",
    "When you're finished with your prediction, run the cell and see if the output is what you expected.  Then __check your prediction__ by running the code above through the [Python Tutor](http://www.pythontutor.com/visualize.html#mode=edit).\n",
    "\n",
    "__For the rest of this problem, continue on your own.__\n",
    "\n",
    "### Part B\n",
    "\n",
    "As the diagram hints, we can access global scope from inside a function as well, as long as we don't override the variable name.  __Predict the output of the following example__, and then run it:"
   ]
  },
  {
   "cell_type": "code",
   "execution_count": null,
   "metadata": {
    "collapsed": false,
    "deletable": false,
    "editable": false,
    "nbgrader": {
     "grade": false,
     "grade_id": "cell-6e3328e6a0d4bdf0",
     "locked": true,
     "schema_version": 3,
     "solution": false,
     "task": false
    }
   },
   "outputs": [],
   "source": [
    "n=2\n",
    "\n",
    "def global_pow(x):\n",
    "    return x**n\n",
    "\n",
    "print(global_pow(3))\n",
    "\n",
    "n=3\n",
    "print(global_pow(3))"
   ]
  },
  {
   "cell_type": "markdown",
   "metadata": {
    "collapsed": false,
    "deletable": false,
    "editable": false,
    "nbgrader": {
     "grade": false,
     "grade_id": "cell-0cb83bf2a42a291a",
     "locked": true,
     "schema_version": 3,
     "solution": false,
     "task": false
    }
   },
   "source": [
    "__Why does changing `n` work like this__, if we do it _after_ we've defined the `global_pow` function already?!  (The answer has to do with _when_ the statement `return x**n` is actually evaluated; again, try the Python Tutor if you're stuck.)"
   ]
  },
  {
   "cell_type": "markdown",
   "metadata": {
    "collapsed": false,
    "deletable": false,
    "nbgrader": {
     "cell_type": "markdown",
     "checksum": "e67ea2fec691fc2e2abe2be15a3c6613",
     "grade": true,
     "grade_id": "cell-a5994a4458c6db4f",
     "locked": false,
     "points": 0,
     "schema_version": 3,
     "solution": true,
     "task": false
    }
   },
   "source": [
    "global_pow uses the last define n value."
   ]
  },
  {
   "cell_type": "markdown",
   "metadata": {
    "collapsed": false,
    "deletable": false,
    "editable": false,
    "nbgrader": {
     "grade": false,
     "grade_id": "cell-839f3ead81a55d04",
     "locked": true,
     "schema_version": 3,
     "solution": false,
     "task": false
    }
   },
   "source": [
    "You should keep in mind that using global variables in this way is almost always a bad idea!  There are two major reasons:\n",
    "\n",
    "1. The code is much less clear; to know what `global_pow()` will actually do, you have to go backwards to find where `n` was defined last.\n",
    "2. If $n$ is used somewhere else in your code, the behavior of `global_pow()` can suddenly and unexpectedly change!\n",
    "\n",
    "### Part C\n",
    "\n",
    "Since using global variables has those drawbacks, let's implement a better `pow` function using keyword arguments - which will reveal another surprising behavior!  Again, __predict the output of the following code__, then run it:"
   ]
  },
  {
   "cell_type": "code",
   "execution_count": 1,
   "metadata": {
    "collapsed": false,
    "deletable": false,
    "editable": false,
    "nbgrader": {
     "grade": false,
     "grade_id": "cell-b3ec757bdb1788fa",
     "locked": true,
     "schema_version": 3,
     "solution": false,
     "task": false
    }
   },
   "outputs": [
    {
     "name": "stdout",
     "output_type": "stream",
     "text": [
      "9\n",
      "243\n",
      "9\n",
      "27\n"
     ]
    }
   ],
   "source": [
    "n=2\n",
    "\n",
    "def keyword_pow(x, n=n):\n",
    "    return x**n\n",
    "\n",
    "print(keyword_pow(3))\n",
    "print(keyword_pow(3,n=5))\n",
    "\n",
    "n=3\n",
    "print(keyword_pow(3))\n",
    "print(keyword_pow(3, n=n))"
   ]
  },
  {
   "cell_type": "markdown",
   "metadata": {
    "collapsed": false,
    "deletable": false,
    "editable": false,
    "nbgrader": {
     "grade": false,
     "grade_id": "cell-a685cf232f5dfaf6",
     "locked": true,
     "schema_version": 3,
     "solution": false,
     "task": false
    }
   },
   "source": [
    "Once again, if you get stuck the Python Tutor will help.  Answer the following questions:\n",
    "\n",
    "- What does the bizarre-looking statement `n=n` actually do?\n",
    "- Why doesn't the behavior of `keyword_pow(3)` change after we change the global value of `n` to 3?"
   ]
  },
  {
   "cell_type": "markdown",
   "metadata": {
    "collapsed": false,
    "deletable": false,
    "nbgrader": {
     "cell_type": "markdown",
     "checksum": "5cab7dccf362b222dc32bd4b523c4e60",
     "grade": true,
     "grade_id": "cell-2e5e642b0d1b240b",
     "locked": false,
     "points": 0,
     "schema_version": 3,
     "solution": true,
     "task": false
    }
   },
   "source": [
    "It uses the global defined value of n into the keyword_pow function.\n",
    "Because keyword_pow works off of its locally defined n."
   ]
  },
  {
   "cell_type": "markdown",
   "metadata": {
    "collapsed": false,
    "deletable": false,
    "editable": false,
    "nbgrader": {
     "grade": false,
     "grade_id": "cell-bd6cc8c22ef29a21",
     "locked": true,
     "schema_version": 3,
     "solution": false,
     "task": false
    }
   },
   "source": [
    "## T4.2 - Making your own functions\n",
    "\n",
    "Let's start with some basic practice making our own functions.  Each of the code examples below contains a function call for a function that hasn't been implemented yet.  In each part below, __write the function in the first cell__ so that the code in the second cell works correctly.\n",
    "\n",
    "### Part A\n",
    "\n",
    "We want a function called `hello` that takes no arguments, and returns the string `Hello, world!` when it is called."
   ]
  },
  {
   "cell_type": "code",
   "execution_count": 4,
   "metadata": {
    "collapsed": false,
    "deletable": false,
    "nbgrader": {
     "cell_type": "code",
     "checksum": "bb7e015e15129c6413c39715a53fdf01",
     "grade": true,
     "grade_id": "cell-764aff9929c55d48",
     "locked": false,
     "points": 2,
     "schema_version": 3,
     "solution": true,
     "task": false
    }
   },
   "outputs": [],
   "source": [
    "# Write your function here\n",
    "\n",
    "def hello():\n",
    "    return 'Hello, world!'"
   ]
  },
  {
   "cell_type": "code",
   "execution_count": 5,
   "metadata": {
    "collapsed": false,
    "deletable": false,
    "editable": false,
    "nbgrader": {
     "grade": false,
     "grade_id": "cell-9a2dbb9682219e17",
     "locked": true,
     "schema_version": 3,
     "solution": false,
     "task": false
    }
   },
   "outputs": [
    {
     "name": "stdout",
     "output_type": "stream",
     "text": [
      "Hello, world!\n"
     ]
    }
   ],
   "source": [
    "## Read-only code: should run after you implement the function above.\n",
    "\n",
    "print(hello())\n",
    "\n",
    "# Note: this should print only \"Hello, world!\" - if you see \"None\" printed out as well, your function is incorrect!\n",
    "# Remember that you should _return_ the string from your function."
   ]
  },
  {
   "cell_type": "markdown",
   "metadata": {
    "collapsed": false,
    "deletable": false,
    "editable": false,
    "nbgrader": {
     "grade": false,
     "grade_id": "cell-3664cc7e6d686fe2",
     "locked": true,
     "schema_version": 3,
     "solution": false,
     "task": false
    }
   },
   "source": [
    "### Part B\n",
    "\n",
    "We want a function called `dist_origin` that takes two numbers `x` and `y`, and computes the distance from the origin $(0,0)$ to the point $(x,y)$.  (You'll need to import a square-root function from somewhere!)"
   ]
  },
  {
   "cell_type": "code",
   "execution_count": 6,
   "metadata": {
    "collapsed": false,
    "deletable": false,
    "nbgrader": {
     "cell_type": "code",
     "checksum": "ddc756a080b09839745cb3e05c1ec567",
     "grade": false,
     "grade_id": "cell-71a3f74b37afb80a",
     "locked": false,
     "schema_version": 3,
     "solution": true,
     "task": false
    }
   },
   "outputs": [],
   "source": [
    "# Write your function here\n",
    "\n",
    "from cmath import sqrt\n",
    "\n",
    "\n",
    "def dist_origin(x,y):\n",
    "    return sqrt(x**2+y**2)"
   ]
  },
  {
   "cell_type": "code",
   "execution_count": 7,
   "metadata": {
    "collapsed": false,
    "deletable": false,
    "editable": false,
    "nbgrader": {
     "grade": false,
     "grade_id": "cell-31c2549ae32a01a8",
     "locked": true,
     "schema_version": 3,
     "solution": false,
     "task": false
    }
   },
   "outputs": [
    {
     "name": "stdout",
     "output_type": "stream",
     "text": [
      "(5+0j)\n",
      "(1.4142135623730951+0j)\n"
     ]
    }
   ],
   "source": [
    "## Read-only code: should run after you implement the function above.\n",
    "\n",
    "print(dist_origin(3,4))  # should print 5.0\n",
    "print(dist_origin(1,-1)) # should print about 1.41"
   ]
  },
  {
   "cell_type": "markdown",
   "metadata": {
    "collapsed": false,
    "deletable": false,
    "editable": false,
    "nbgrader": {
     "grade": false,
     "grade_id": "cell-90bca8ff43d68ea7",
     "locked": true,
     "schema_version": 3,
     "solution": false,
     "task": false
    }
   },
   "source": [
    "### Part C\n",
    "\n",
    "A generalization of the distance function $d = \\sqrt{x^2 + y^2}$ in mathematics is the __p-norm__, which is defined as follows for a two-dimensional vector:\n",
    "\n",
    "$$\n",
    "d_p \\equiv (|x|^p + |y|^p)^{1/p}.\n",
    "$$\n",
    "\n",
    "For $p = 2$ this is just the usual distance to the origin; if we take $p=1$, it is the sum of the lengths along the $x$ and $y$ directions (the \"taxicab distance\".)\n",
    "\n",
    "Write a function called `p_norm_dist()` that takes two __positional arguments__, `x` and `y`, and a single __keyword argument__ `p` (with default value 2).\n",
    "\n",
    "(_Hint: don't forget the absolute values!  You can use the built-in `abs()` function._)"
   ]
  },
  {
   "cell_type": "code",
   "execution_count": 28,
   "metadata": {
    "collapsed": false,
    "deletable": false,
    "nbgrader": {
     "cell_type": "code",
     "checksum": "7eb85fdbc00cb060b934b18dfa238082",
     "grade": false,
     "grade_id": "cell-4c597254fa56b258",
     "locked": false,
     "schema_version": 3,
     "solution": true,
     "task": false
    }
   },
   "outputs": [],
   "source": [
    "# Write your function here\n",
    "\n",
    "p=2\n",
    "def p_norm_dist(x,y,p=p):\n",
    "    return (abs(x)**p + abs(y)**p)**(1/p)"
   ]
  },
  {
   "cell_type": "code",
   "execution_count": 29,
   "metadata": {
    "collapsed": false,
    "deletable": false,
    "editable": false,
    "nbgrader": {
     "grade": false,
     "grade_id": "cell-bc3082d8ccbb91f9",
     "locked": true,
     "schema_version": 3,
     "solution": false,
     "task": false
    }
   },
   "outputs": [
    {
     "name": "stdout",
     "output_type": "stream",
     "text": [
      "5.0\n",
      "7.0\n",
      "1.4142135623730951\n",
      "2.0\n",
      "7.0\n"
     ]
    }
   ],
   "source": [
    "## Read-only code: should run after you implement the function above.\n",
    "\n",
    "print(p_norm_dist(3,4))          # Should print 5.0 again\n",
    "print(p_norm_dist(3,4,p=1))      # Should print 7.0\n",
    "print(p_norm_dist(x=1,y=-1))     # Should print 1.41... again\n",
    "print(p_norm_dist(x=1,y=-1,p=1)) # Should print 2.0\n",
    "\n",
    "print(p_norm_dist(7,3,p=100))    # Should print 7.0"
   ]
  },
  {
   "cell_type": "markdown",
   "metadata": {
    "collapsed": false,
    "deletable": false,
    "editable": false,
    "nbgrader": {
     "grade": false,
     "grade_id": "cell-1e54b81b2760daf6",
     "locked": true,
     "schema_version": 3,
     "solution": false,
     "task": false
    }
   },
   "source": [
    "### Part D\n",
    "\n",
    "Whenever we're using a function, and _especially_ if it's imported from a module, it is important to know the __call signature__ of that function.  In short:\n",
    "\n",
    "- What are the arguments called?\n",
    "- What order are they in?\n",
    "- Which arguments have default values (and what are they?)\n",
    "\n",
    "In Python, the call signature is simply the header line.  But if we're importing from a module, we don't want to have to go read that module's source code!\n",
    "\n",
    "Fortunately, Jupyter provides a better way, through something called a __magic command__.  Magic commands (or \"Jupyter magic\") are special instructions that are not part of Python, but are understood by Jupyter.\n",
    "\n",
    "For dealing with functions, the `?` magic command is essential.  Try it on the function you just wrote: in the cell below, type `p_norm_dist?` and look for the pop-up at the bottom of the screen!\n",
    "\n",
    "Then give it a try on another module: enter `math.log?`.  (If you get an error, make sure `math` has been imported in your current kernel.)"
   ]
  },
  {
   "cell_type": "code",
   "execution_count": 32,
   "metadata": {
    "collapsed": false,
    "deletable": false,
    "nbgrader": {
     "cell_type": "code",
     "checksum": "004db3c7d7dd899d1380ebb153669845",
     "grade": false,
     "grade_id": "cell-d81b0fec5df3bb39",
     "locked": false,
     "schema_version": 3,
     "solution": true,
     "task": false
    }
   },
   "outputs": [
    {
     "name": "stdout",
     "output_type": "stream",
     "text": [
      "\u001b[0;31mDocstring:\u001b[0m\n",
      "log(x, [base=math.e])\n",
      "Return the logarithm of x to the given base.\n",
      "\n",
      "If the base not specified, returns the natural logarithm (base e) of x.\n",
      "\u001b[0;31mType:\u001b[0m      builtin_function_or_method\n"
     ]
    }
   ],
   "source": [
    "import math\n",
    "math.log?\n"
   ]
  },
  {
   "cell_type": "markdown",
   "metadata": {
    "collapsed": false,
    "deletable": false,
    "editable": false,
    "nbgrader": {
     "grade": false,
     "grade_id": "cell-659fcaf351a59d73",
     "locked": true,
     "schema_version": 3,
     "solution": false,
     "task": false
    }
   },
   "source": [
    "## T4.3 - Mixing scope with the `global` keyword\n",
    "\n",
    "There's one question I never addressed about scope in the materials so far: can you _write_ to global variables from inside of a local scope?  The answer is sort of, but it leads to one of the most complicated parts of Python's scoping rules.  For your information, we'll go through that case now.\n",
    "\n",
    "This section comes with a caveat: _you should almost never use the `global` keyword!_  Just as is the case with the global variable example we saw in lecture, modification of global variables breaks the principle of __encapsulation__, that a function should just be concerned with things locally available to it.  Encapsulation makes it much easier to diagnose errors; if your code depends on global scope, you have to look _everywhere_ for the problem!\n",
    "\n",
    "### Part A\n",
    "\n",
    "\n",
    "Although the variables in global namespace are visible within the scope of a function, Python actually distinguishes between _reading_ and _writing_ such variables.  Consider the following example code:"
   ]
  },
  {
   "cell_type": "code",
   "execution_count": 69,
   "metadata": {
    "collapsed": false
   },
   "outputs": [
    {
     "name": "stdout",
     "output_type": "stream",
     "text": [
      "3\n",
      "4\n"
     ]
    }
   ],
   "source": [
    "n=2\n",
    "\n",
    "def adder():\n",
    "    global n \n",
    "    n += 1\n",
    "\n",
    "adder()\n",
    "print(n)\n",
    "adder()\n",
    "print(n)"
   ]
  },
  {
   "cell_type": "markdown",
   "metadata": {
    "collapsed": false,
    "deletable": false,
    "editable": false,
    "nbgrader": {
     "grade": false,
     "grade_id": "cell-9c7a684fdac6112d",
     "locked": true,
     "schema_version": 3,
     "solution": false,
     "task": false
    }
   },
   "source": [
    "First, read the code and make sure you understand what it's supposed to do, and what the expected outcome of the final `print(n)` is.  Then, run the code and notice that you get an error message, specifically an `UnboundLocalError`.  This is because Python's default behavior is to _not_ allow writing to global variables inside of local scope.\n",
    "\n",
    "However, we can overrule this behavior by using the `global` keyword.  The statement `global x` tells Python that we want to be able to make full use of the global-namespace variable `x` in our local scope.  __Use the `global` keyword to fix the code above__, so that `adder()` has the expected outcome."
   ]
  },
  {
   "cell_type": "markdown",
   "metadata": {
    "collapsed": false,
    "deletable": false,
    "editable": false,
    "nbgrader": {
     "grade": false,
     "grade_id": "cell-874238b28a0d2515",
     "locked": true,
     "schema_version": 3,
     "solution": false,
     "task": false
    }
   },
   "source": [
    "### Part B\n",
    "\n",
    "One more example of using global scope.  The _Fibonacci sequence_ is defined by the formula\n",
    "\\\\[\n",
    "F_n = F_{n-1} + F_{n-2}\n",
    "\\\\]\n",
    "along with the definitions $F_0 = F_1 = 1$.  Let's make use of global scope to compute numbers from this sequence.  In the cell below, implement a function `iterate_fib()` which uses the values of the global variables `Fn_minus_one` and `Fn_minus_two` to compute the next value in the sequence.  \n",
    "\n",
    "`iterate_fib()` should __return__ the value $F_n$, and then change `Fn_minus_one` and `Fn_minus_two` to prepare for the next time the function is called.  Remember that the `global` keyword is needed if you're going to assign to variables outside the local scope in a function."
   ]
  },
  {
   "cell_type": "code",
   "execution_count": 78,
   "metadata": {
    "collapsed": false,
    "deletable": false,
    "nbgrader": {
     "cell_type": "code",
     "checksum": "2eedaee0f4dd39da02706b1b344d45c1",
     "grade": false,
     "grade_id": "cell-0435e4dadc8a037c",
     "locked": false,
     "schema_version": 3,
     "solution": true,
     "task": false
    }
   },
   "outputs": [],
   "source": [
    "Fn_minus_one = 1\n",
    "Fn_minus_two = 1\n",
    "\n",
    "def iterate_fib():\n",
    "    global Fn_minus_one\n",
    "    global Fn_minus_two\n",
    "\n",
    "    Fn = Fn_minus_one + Fn_minus_two\n",
    "    Fn_minus_two = Fn_minus_one\n",
    "    Fn_minus_one = Fn\n",
    "   \n",
    "    \n",
    "    \n",
    "    return Fn\n",
    "\n",
    "    # YOUR CODE HERE"
   ]
  },
  {
   "cell_type": "code",
   "execution_count": 79,
   "metadata": {
    "collapsed": false,
    "deletable": false,
    "editable": false,
    "nbgrader": {
     "grade": true,
     "grade_id": "cell-38f50cde44d543b8",
     "locked": true,
     "points": 0,
     "schema_version": 3,
     "solution": false,
     "task": false
    }
   },
   "outputs": [],
   "source": [
    "## Testing cell; should run without error if your implementation above works!\n",
    "\n",
    "Fn_minus_one = 1\n",
    "Fn_minus_two = 1\n",
    "\n",
    "assert (iterate_fib() == 2)\n",
    "assert (iterate_fib() == 3)\n",
    "assert (iterate_fib() == 5)\n",
    "assert (iterate_fib() == 8)\n",
    "assert (iterate_fib() == 13)"
   ]
  },
  {
   "cell_type": "code",
   "execution_count": null,
   "metadata": {},
   "outputs": [],
   "source": []
  }
 ],
 "metadata": {
  "celltoolbar": "Create Assignment",
  "kernelspec": {
   "display_name": "Python 3.9.13 64-bit",
   "language": "python",
   "name": "python3"
  },
  "language_info": {
   "codemirror_mode": {
    "name": "ipython",
    "version": 3
   },
   "file_extension": ".py",
   "mimetype": "text/x-python",
   "name": "python",
   "nbconvert_exporter": "python",
   "pygments_lexer": "ipython3",
   "version": "3.9.13"
  },
  "nbgrader": {
   "cocalc_minimal_stubs": true
  },
  "vscode": {
   "interpreter": {
    "hash": "aee8b7b246df8f9039afb4144a1f6fd8d2ca17a180786b69acc140d282b71a49"
   }
  }
 },
 "nbformat": 4,
 "nbformat_minor": 4
}
