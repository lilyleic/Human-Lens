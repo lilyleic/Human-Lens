{
 "cells": [
  {
   "cell_type": "markdown",
   "metadata": {},
   "source": [
    "# Image Data Types and What They Mean"
   ]
  },
  {
   "cell_type": "markdown",
   "metadata": {},
   "source": [
    "- in skimage, images = numpy arrays\n",
    "- images use these data type ranges to avoid distorting the image intensities\n",
    "    - {Data type: Range}\n",
    "    - uint8 : [0,255]\n",
    "    - uint16 : [0,65535]\n",
    "    - uint32 : [0,(2^(32) - 1)]\n",
    "    - float : [-1,1] or [0,1]\n",
    "    - int8 : [-128,127]\n",
    "    - int16 [-32768,32767]\n",
    "    - int32 [-2^(31),2^(31)-1]\n",
    "- float images should be restricted to that range, but data type itself can exceed (?)\n",
    "- the other image types can have pixel intensities (?) that span the entire data range\n",
    "- functions in skimage can accept any of the following data types, but may return an image of a ifferent data type\n",
    "- if want particular data type, can ask for one (functions avaliable) and propery rescale image intensities\n",
    "- _Never Use astype_ because violates the above assumptions about data type range"
   ]
  },
  {
   "cell_type": "code",
   "execution_count": 6,
   "metadata": {},
   "outputs": [
    {
     "ename": "ModuleNotFoundError",
     "evalue": "No module named 'skimage'",
     "output_type": "error",
     "traceback": [
      "\u001b[0;31m---------------------------------------------------------------------------\u001b[0m",
      "\u001b[0;31mModuleNotFoundError\u001b[0m                       Traceback (most recent call last)",
      "\u001b[1;32mUntitled-1.ipynb Cell 3\u001b[0m in \u001b[0;36m<cell line: 1>\u001b[0;34m()\u001b[0m\n\u001b[0;32m----> <a href='vscode-notebook-cell:Untitled-1.ipynb?jupyter-notebook#W5sdW50aXRsZWQ%3D?line=0'>1</a>\u001b[0m \u001b[39mfrom\u001b[39;00m \u001b[39mskimage\u001b[39;00m \u001b[39mimport\u001b[39;00m util\n\u001b[1;32m      <a href='vscode-notebook-cell:Untitled-1.ipynb?jupyter-notebook#W5sdW50aXRsZWQ%3D?line=1'>2</a>\u001b[0m \u001b[39mfrom\u001b[39;00m \u001b[39mskimage\u001b[39;00m\u001b[39m.\u001b[39;00m\u001b[39mutil\u001b[39;00m \u001b[39mimport\u001b[39;00m img_as_float\n\u001b[1;32m      <a href='vscode-notebook-cell:Untitled-1.ipynb?jupyter-notebook#W5sdW50aXRsZWQ%3D?line=2'>3</a>\u001b[0m image \u001b[39m=\u001b[39m np\u001b[39m.\u001b[39marange(\u001b[39m0\u001b[39m, \u001b[39m50\u001b[39m, \u001b[39m10\u001b[39m, dtype\u001b[39m=\u001b[39mnp\u001b[39m.\u001b[39muint8)\n",
      "\u001b[0;31mModuleNotFoundError\u001b[0m: No module named 'skimage'"
     ]
    }
   ],
   "source": [
    "from skimage import util\n",
    "from skimage.util import img_as_float\n",
    "image = np.arange(0, 50, 10, dtype=np.uint8)\n",
    "print(image.aastype(float)) # These float values are out of range."
   ]
  },
  {
   "cell_type": "code",
   "execution_count": 7,
   "metadata": {},
   "outputs": [
    {
     "ename": "NameError",
     "evalue": "name 'img_as_float' is not defined",
     "output_type": "error",
     "traceback": [
      "\u001b[0;31m---------------------------------------------------------------------------\u001b[0m",
      "\u001b[0;31mNameError\u001b[0m                                 Traceback (most recent call last)",
      "\u001b[1;32mUntitled-1.ipynb Cell 5\u001b[0m in \u001b[0;36m<cell line: 1>\u001b[0;34m()\u001b[0m\n\u001b[0;32m----> <a href='vscode-notebook-cell:Untitled-1.ipynb?jupyter-notebook#W6sdW50aXRsZWQ%3D?line=0'>1</a>\u001b[0m \u001b[39mprint\u001b[39m(img_as_float(image))\n",
      "\u001b[0;31mNameError\u001b[0m: name 'img_as_float' is not defined"
     ]
    }
   ],
   "source": [
    "print(img_as_float(image))"
   ]
  },
  {
   "cell_type": "markdown",
   "metadata": {},
   "source": [
    "## Input Types\n",
    "- functions may only support certain data types\n",
    "- if that happens, input will be converted to that data type, but a warning will show up\n",
    "- Utility Functions Avaliable (convert images to desired data type and rescales values):\n",
    "    - {Function name : Description}\n",
    "    - img_as_float : Convert to floating point (integer types become 64-bit floats (?))\n",
    "    - imag_as_ubyte : Convert to 8-bit uint\n",
    "    - img_as_uint : Convert to 16-bit uint\n",
    "    - img_as_int : Convert to 16-bit int"
   ]
  },
  {
   "cell_type": "code",
   "execution_count": 2,
   "metadata": {},
   "outputs": [
    {
     "ename": "ModuleNotFoundError",
     "evalue": "No module named 'skimage'",
     "output_type": "error",
     "traceback": [
      "\u001b[0;31m---------------------------------------------------------------------------\u001b[0m",
      "\u001b[0;31mModuleNotFoundError\u001b[0m                       Traceback (most recent call last)",
      "\u001b[1;32m/Users/catherine/Human-Lens/scripts/Image-Data-Types-and-What_They_Mean.ipynb Cell 6\u001b[0m in \u001b[0;36m<cell line: 1>\u001b[0;34m()\u001b[0m\n\u001b[0;32m----> <a href='vscode-notebook-cell:/Users/catherine/Human-Lens/scripts/Image-Data-Types-and-What_They_Mean.ipynb#W0sZmlsZQ%3D%3D?line=0'>1</a>\u001b[0m \u001b[39mfrom\u001b[39;00m \u001b[39mskimage\u001b[39;00m\u001b[39m.\u001b[39;00m\u001b[39mutil\u001b[39;00m \u001b[39mimport\u001b[39;00m img_as_ubyte\n\u001b[1;32m      <a href='vscode-notebook-cell:/Users/catherine/Human-Lens/scripts/Image-Data-Types-and-What_They_Mean.ipynb#W0sZmlsZQ%3D%3D?line=1'>2</a>\u001b[0m \u001b[39mimport\u001b[39;00m \u001b[39mnumpy\u001b[39;00m \u001b[39mas\u001b[39;00m \u001b[39mnp\u001b[39;00m\n\u001b[1;32m      <a href='vscode-notebook-cell:/Users/catherine/Human-Lens/scripts/Image-Data-Types-and-What_They_Mean.ipynb#W0sZmlsZQ%3D%3D?line=2'>3</a>\u001b[0m image \u001b[39m=\u001b[39m np\u001b[39m.\u001b[39marray([\u001b[39m0\u001b[39m, \u001b[39m0.5\u001b[39m, \u001b[39m1\u001b[39m], dtype\u001b[39m=\u001b[39m\u001b[39mfloat\u001b[39m)\n",
      "\u001b[0;31mModuleNotFoundError\u001b[0m: No module named 'skimage'"
     ]
    }
   ],
   "source": [
    "from skimage.util import img_as_ubyte\n",
    "import numpy as np\n",
    "image = np.array([0, 0.5, 1], dtype=float)\n",
    "img_as_ubyte(image)"
   ]
  },
  {
   "cell_type": "markdown",
   "metadata": {},
   "source": [
    "- above kind of conversions converts 64 bits to 8 bits\n",
    "    - since 8 bits can't hold as much info as 64 bits, you will get a loss of precision"
   ]
  },
  {
   "cell_type": "code",
   "execution_count": 5,
   "metadata": {},
   "outputs": [
    {
     "ename": "ModuleNotFoundError",
     "evalue": "No module named 'numpy'",
     "output_type": "error",
     "traceback": [
      "\u001b[0;31m---------------------------------------------------------------------------\u001b[0m",
      "\u001b[0;31mModuleNotFoundError\u001b[0m                       Traceback (most recent call last)",
      "\u001b[1;32m/Users/catherine/Human-Lens/scripts/Image-Data-Types-and-What_They_Mean.ipynb Cell 8\u001b[0m in \u001b[0;36m<cell line: 1>\u001b[0;34m()\u001b[0m\n\u001b[0;32m----> <a href='vscode-notebook-cell:/Users/catherine/Human-Lens/scripts/Image-Data-Types-and-What_They_Mean.ipynb#X11sZmlsZQ%3D%3D?line=0'>1</a>\u001b[0m \u001b[39mimport\u001b[39;00m \u001b[39mnumpy\u001b[39;00m \u001b[39mas\u001b[39;00m \u001b[39mnp\u001b[39;00m \n\u001b[1;32m      <a href='vscode-notebook-cell:/Users/catherine/Human-Lens/scripts/Image-Data-Types-and-What_They_Mean.ipynb#X11sZmlsZQ%3D%3D?line=1'>2</a>\u001b[0m image \u001b[39m=\u001b[39m np\u001b[39m.\u001b[39marray([\u001b[39m0\u001b[39m, \u001b[39m0.5\u001b[39m, \u001b[39m0.503\u001b[39m, \u001b[39m1\u001b[39m], dtype\u001b[39m=\u001b[39m\u001b[39mfloat\u001b[39m)\n\u001b[1;32m      <a href='vscode-notebook-cell:/Users/catherine/Human-Lens/scripts/Image-Data-Types-and-What_They_Mean.ipynb#X11sZmlsZQ%3D%3D?line=2'>3</a>\u001b[0m image_as_ubyte(image)\n",
      "\u001b[0;31mModuleNotFoundError\u001b[0m: No module named 'numpy'"
     ]
    }
   ],
   "source": [
    "import numpy as np \n",
    "image = np.array([0, 0.5, 0.503, 1], dtype=float)\n",
    "image_as_ubyte(image)"
   ]
  },
  {
   "cell_type": "markdown",
   "metadata": {},
   "source": [
    "- img _as_float = preserves precision of floating point types and doesn't automatically rescale range of floating point inputs (?)\n",
    "- some functions take a *preserve_range* argument \n",
    "- *preserve_range=True* = original range of data will be preserved even if output is of different data type\n",
    "    - make sure resulting non-standard image is properly processed by other functions\n",
    "- usually, floating point inputs will not be automatically rescaled"
   ]
  },
  {
   "cell_type": "code",
   "execution_count": 6,
   "metadata": {},
   "outputs": [
    {
     "ename": "ModuleNotFoundError",
     "evalue": "No module named 'skimage'",
     "output_type": "error",
     "traceback": [
      "\u001b[0;31m---------------------------------------------------------------------------\u001b[0m",
      "\u001b[0;31mModuleNotFoundError\u001b[0m                       Traceback (most recent call last)",
      "\u001b[1;32m/Users/catherine/Human-Lens/scripts/Image-Data-Types-and-What_They_Mean.ipynb Cell 10\u001b[0m in \u001b[0;36m<cell line: 1>\u001b[0;34m()\u001b[0m\n\u001b[0;32m----> <a href='vscode-notebook-cell:/Users/catherine/Human-Lens/scripts/Image-Data-Types-and-What_They_Mean.ipynb#W6sZmlsZQ%3D%3D?line=0'>1</a>\u001b[0m \u001b[39mfrom\u001b[39;00m \u001b[39mskimage\u001b[39;00m \u001b[39mimport\u001b[39;00m data\n\u001b[1;32m      <a href='vscode-notebook-cell:/Users/catherine/Human-Lens/scripts/Image-Data-Types-and-What_They_Mean.ipynb#W6sZmlsZQ%3D%3D?line=1'>2</a>\u001b[0m \u001b[39mfrom\u001b[39;00m \u001b[39mskimage\u001b[39;00m\u001b[39m.\u001b[39;00m\u001b[39mtransform\u001b[39;00m \u001b[39mimport\u001b[39;00m rescale\n\u001b[1;32m      <a href='vscode-notebook-cell:/Users/catherine/Human-Lens/scripts/Image-Data-Types-and-What_They_Mean.ipynb#W6sZmlsZQ%3D%3D?line=2'>3</a>\u001b[0m image \u001b[39m=\u001b[39m data\u001b[39m.\u001b[39mcoins()\n",
      "\u001b[0;31mModuleNotFoundError\u001b[0m: No module named 'skimage'"
     ]
    }
   ],
   "source": [
    "from skimage import data\n",
    "from skimage.transform import rescale\n",
    "image = data.coins()\n",
    "image.dtype, image.min(), image.max(), image.shape"
   ]
  },
  {
   "cell_type": "code",
   "execution_count": 8,
   "metadata": {},
   "outputs": [
    {
     "name": "stderr",
     "output_type": "stream",
     "text": [
      "<>:6: SyntaxWarning: 'tuple' object is not callable; perhaps you missed a comma?\n",
      "<>:6: SyntaxWarning: 'tuple' object is not callable; perhaps you missed a comma?\n"
     ]
    },
    {
     "ename": "ModuleNotFoundError",
     "evalue": "No module named 'skimage'",
     "output_type": "error",
     "traceback": [
      "\u001b[0;31m---------------------------------------------------------------------------\u001b[0m",
      "\u001b[0;31mModuleNotFoundError\u001b[0m                       Traceback (most recent call last)",
      "\u001b[1;32m/Users/catherine/Human-Lens/scripts/Image-Data-Types-and-What_They_Mean.ipynb Cell 11\u001b[0m in \u001b[0;36m<cell line: 1>\u001b[0;34m()\u001b[0m\n\u001b[0;32m----> <a href='vscode-notebook-cell:/Users/catherine/Human-Lens/scripts/Image-Data-Types-and-What_They_Mean.ipynb#X13sZmlsZQ%3D%3D?line=0'>1</a>\u001b[0m \u001b[39mfrom\u001b[39;00m \u001b[39mskimage\u001b[39;00m \u001b[39mimport\u001b[39;00m data\n\u001b[1;32m      <a href='vscode-notebook-cell:/Users/catherine/Human-Lens/scripts/Image-Data-Types-and-What_They_Mean.ipynb#X13sZmlsZQ%3D%3D?line=1'>2</a>\u001b[0m \u001b[39mfrom\u001b[39;00m \u001b[39mskimage\u001b[39;00m\u001b[39m.\u001b[39;00m\u001b[39mtransform\u001b[39;00m \u001b[39mimport\u001b[39;00m rescale\n\u001b[1;32m      <a href='vscode-notebook-cell:/Users/catherine/Human-Lens/scripts/Image-Data-Types-and-What_They_Mean.ipynb#X13sZmlsZQ%3D%3D?line=2'>3</a>\u001b[0m image \u001b[39m=\u001b[39m data\u001b[39m.\u001b[39mcoins()\n",
      "\u001b[0;31mModuleNotFoundError\u001b[0m: No module named 'skimage'"
     ]
    }
   ],
   "source": [
    "from skimage import data\n",
    "from skimage.transform import rescale\n",
    "image = data.coins()\n",
    "image.dtype, image.min(), image.max(), image.shape\n",
    "rescaled = rescale(image, 0.5)\n",
    "(rescaled.dtype, np.round(rescaled.min(), 4),\n",
    "np.round(rescaeled.max(), 4), rescaled.shape)(dtype('float64'), 0.0147, 0.9456, (152, 192))\n",
    "rescaled = rescale(image, 0.5, preserve_range=True)\n",
    "(rescaled.dtype, np.round(rescaled.min()),\n",
    "np.round(rescaled.max()), rescaled.shape\n",
    "(dtype('float64'), 4.0, 241.0, (152, 192)))"
   ]
  },
  {
   "cell_type": "markdown",
   "metadata": {},
   "source": [
    "## Output Types"
   ]
  },
  {
   "cell_type": "markdown",
   "metadata": {},
   "source": [
    "- when using functions, need to convert output to what want (makes sure no data copies take place)\n",
    "\n",
    "- Code that a user who wants a specific output may write:"
   ]
  },
  {
   "cell_type": "code",
   "execution_count": 1,
   "metadata": {},
   "outputs": [
    {
     "ename": "ModuleNotFoundError",
     "evalue": "No module named 'skimage'",
     "output_type": "error",
     "traceback": [
      "\u001b[0;31m---------------------------------------------------------------------------\u001b[0m",
      "\u001b[0;31mModuleNotFoundError\u001b[0m                       Traceback (most recent call last)",
      "\u001b[1;32m/Users/catherine/Human-Lens/scripts/Image-Data-Types-and-What_They_Mean.ipynb Cell 14\u001b[0m in \u001b[0;36m<cell line: 1>\u001b[0;34m()\u001b[0m\n\u001b[0;32m----> <a href='vscode-notebook-cell:/Users/catherine/Human-Lens/scripts/Image-Data-Types-and-What_They_Mean.ipynb#X15sZmlsZQ%3D%3D?line=0'>1</a>\u001b[0m \u001b[39mfrom\u001b[39;00m \u001b[39mskimage\u001b[39;00m\u001b[39m.\u001b[39;00m\u001b[39mutil\u001b[39;00m \u001b[39mimport\u001b[39;00m img_as_uint\n\u001b[1;32m      <a href='vscode-notebook-cell:/Users/catherine/Human-Lens/scripts/Image-Data-Types-and-What_They_Mean.ipynb#X15sZmlsZQ%3D%3D?line=1'>2</a>\u001b[0m out \u001b[39m=\u001b[39m img_as_uint(sobel(image))\n\u001b[1;32m      <a href='vscode-notebook-cell:/Users/catherine/Human-Lens/scripts/Image-Data-Types-and-What_They_Mean.ipynb#X15sZmlsZQ%3D%3D?line=2'>3</a>\u001b[0m plt\u001b[39m.\u001b[39mimshow(out)\n",
      "\u001b[0;31mModuleNotFoundError\u001b[0m: No module named 'skimage'"
     ]
    }
   ],
   "source": [
    "from skimage.util import img_as_uint\n",
    "out = img_as_uint(sobel(image))\n",
    "plt.imshow(out)"
   ]
  },
  {
   "cell_type": "markdown",
   "metadata": {},
   "source": [
    "## Working with OpenCV\n",
    "- to use an image created in skimace in OpenCV, remember that OpenCV is BGR for color and data type is uint8 by default\n",
    "### Converting BGR to RGB or Vice Versa\n",
    "- color images in skimage have three dimensions: height, width, and color\n",
    "\n",
    "- Reverses order of colors (colors on on last axis):"
   ]
  },
  {
   "cell_type": "code",
   "execution_count": 2,
   "metadata": {},
   "outputs": [
    {
     "ename": "NameError",
     "evalue": "name 'image' is not defined",
     "output_type": "error",
     "traceback": [
      "\u001b[0;31m---------------------------------------------------------------------------\u001b[0m",
      "\u001b[0;31mNameError\u001b[0m                                 Traceback (most recent call last)",
      "\u001b[1;32m/Users/catherine/Human-Lens/scripts/Image-Data-Types-and-What_They_Mean.ipynb Cell 16\u001b[0m in \u001b[0;36m<cell line: 1>\u001b[0;34m()\u001b[0m\n\u001b[0;32m----> <a href='vscode-notebook-cell:/Users/catherine/Human-Lens/scripts/Image-Data-Types-and-What_They_Mean.ipynb#X20sZmlsZQ%3D%3D?line=0'>1</a>\u001b[0m image \u001b[39m=\u001b[39m image[:, :, ::\u001b[39m-\u001b[39m\u001b[39m1\u001b[39m]\n",
      "\u001b[0;31mNameError\u001b[0m: name 'image' is not defined"
     ]
    }
   ],
   "source": [
    "image = image[:, :, ::-1]"
   ]
  },
  {
   "cell_type": "markdown",
   "metadata": {},
   "source": [
    "### Using an Image from OpenCV with skimage\n",
    "- if prefer working with floating point images (?):"
   ]
  },
  {
   "cell_type": "code",
   "execution_count": null,
   "metadata": {},
   "outputs": [],
   "source": [
    "from skimage.util import img_as_float\n",
    "image = img_as_float(any_opencv_image)"
   ]
  },
  {
   "cell_type": "markdown",
   "metadata": {},
   "source": [
    "### Using an Image from skimage with OpenCV\n",
    "- converting floating point images to an array of unsigned bytes (?)"
   ]
  },
  {
   "cell_type": "code",
   "execution_count": null,
   "metadata": {},
   "outputs": [],
   "source": [
    "from skimage.util import img_as_ubyte\n",
    "cv_image = img_as_ubyte(any_skimage_image)"
   ]
  },
  {
   "cell_type": "markdown",
   "metadata": {},
   "source": [
    "## Image Processing Pipeline\n",
    "- if want to use custom function that requires specific data type, call one of the dtype conversion functions (func1 and func2 are skimage functions):"
   ]
  },
  {
   "cell_type": "code",
   "execution_count": null,
   "metadata": {},
   "outputs": [],
   "source": [
    "from skimage.util import img_as_float\n",
    "image = img_as_float(func1(func2(image)))\n",
    "processed_image = custom_func(image)"
   ]
  },
  {
   "cell_type": "markdown",
   "metadata": {},
   "source": [
    "- how to convert the image internally and use a simplified processing pipeline(?):"
   ]
  },
  {
   "cell_type": "code",
   "execution_count": null,
   "metadata": {},
   "outputs": [],
   "source": [
    "def custom_func(image):\n",
    "    image = img_as_float(image)\n",
    "    # do something\n",
    "\n",
    "processed_image = custom_func(func1(func2(image)))"
   ]
  },
  {
   "cell_type": "markdown",
   "metadata": {},
   "source": [
    "## Rescaling Intensity Values\n",
    "- functions shouldn't randomly alter image intensities\n",
    "- sometimes, image doesn't scale intensity the way you want it to, so can use rescale_intensity function:"
   ]
  },
  {
   "cell_type": "code",
   "execution_count": 3,
   "metadata": {},
   "outputs": [
    {
     "ename": "ModuleNotFoundError",
     "evalue": "No module named 'skimage'",
     "output_type": "error",
     "traceback": [
      "\u001b[0;31m---------------------------------------------------------------------------\u001b[0m",
      "\u001b[0;31mModuleNotFoundError\u001b[0m                       Traceback (most recent call last)",
      "\u001b[1;32m/Users/catherine/Human-Lens/scripts/Image-Data-Types-and-What_They_Mean.ipynb Cell 26\u001b[0m in \u001b[0;36m<cell line: 1>\u001b[0;34m()\u001b[0m\n\u001b[0;32m----> <a href='vscode-notebook-cell:/Users/catherine/Human-Lens/scripts/Image-Data-Types-and-What_They_Mean.ipynb#X35sZmlsZQ%3D%3D?line=0'>1</a>\u001b[0m \u001b[39mfrom\u001b[39;00m \u001b[39mskimage\u001b[39;00m \u001b[39mimport\u001b[39;00m exposure\n\u001b[1;32m      <a href='vscode-notebook-cell:/Users/catherine/Human-Lens/scripts/Image-Data-Types-and-What_They_Mean.ipynb#X35sZmlsZQ%3D%3D?line=1'>2</a>\u001b[0m image \u001b[39m=\u001b[39m exposure\u001b[39m.\u001b[39mrescale_intensity(img20bit, in_range\u001b[39m=\u001b[39m(\u001b[39m0\u001b[39m, \u001b[39m2\u001b[39m\u001b[39m*\u001b[39m\u001b[39m*\u001b[39m\u001b[39m10\u001b[39m \u001b[39m-\u001b[39m \u001b[39m1\u001b[39m))\n",
      "\u001b[0;31mModuleNotFoundError\u001b[0m: No module named 'skimage'"
     ]
    }
   ],
   "source": [
    "from skimage import exposure\n",
    "image = exposure.rescale_intensity(img20bit, in_range=(0, 2**10 - 1))"
   ]
  },
  {
   "cell_type": "markdown",
   "metadata": {},
   "source": [
    "- in_range set to max range for 10-bit image (?)\n",
    "- rescale_intensity = stretches values of in_range to match range of dtype\n",
    "- rescale_intensity also accepts strings in in_range and out_range"
   ]
  },
  {
   "cell_type": "code",
   "execution_count": 4,
   "metadata": {},
   "outputs": [
    {
     "ename": "NameError",
     "evalue": "name 'exposure' is not defined",
     "output_type": "error",
     "traceback": [
      "\u001b[0;31m---------------------------------------------------------------------------\u001b[0m",
      "\u001b[0;31mNameError\u001b[0m                                 Traceback (most recent call last)",
      "\u001b[1;32m/Users/catherine/Human-Lens/scripts/Image-Data-Types-and-What_They_Mean.ipynb Cell 28\u001b[0m in \u001b[0;36m<cell line: 1>\u001b[0;34m()\u001b[0m\n\u001b[0;32m----> <a href='vscode-notebook-cell:/Users/catherine/Human-Lens/scripts/Image-Data-Types-and-What_They_Mean.ipynb#X36sZmlsZQ%3D%3D?line=0'>1</a>\u001b[0m image \u001b[39m=\u001b[39m exposure\u001b[39m.\u001b[39mrescale_intensity(img10bit, in_range\u001b[39m=\u001b[39m\u001b[39m'\u001b[39m\u001b[39muint10\u001b[39m\u001b[39m'\u001b[39m)\n",
      "\u001b[0;31mNameError\u001b[0m: name 'exposure' is not defined"
     ]
    }
   ],
   "source": [
    "image = exposure.rescale_intensity(img10bit, in_range='uint10')"
   ]
  },
  {
   "cell_type": "markdown",
   "metadata": {},
   "source": [
    "## Note About negative Values\n",
    "- negative values are preserved when converting to sign dtypes(?)\n",
    "- to prevent clipping behavior, rescale image first:"
   ]
  },
  {
   "cell_type": "code",
   "execution_count": 5,
   "metadata": {},
   "outputs": [
    {
     "ename": "NameError",
     "evalue": "name 'exposure' is not defined",
     "output_type": "error",
     "traceback": [
      "\u001b[0;31m---------------------------------------------------------------------------\u001b[0m",
      "\u001b[0;31mNameError\u001b[0m                                 Traceback (most recent call last)",
      "\u001b[1;32m/Users/catherine/Human-Lens/scripts/Image-Data-Types-and-What_They_Mean.ipynb Cell 30\u001b[0m in \u001b[0;36m<cell line: 1>\u001b[0;34m()\u001b[0m\n\u001b[0;32m----> <a href='vscode-notebook-cell:/Users/catherine/Human-Lens/scripts/Image-Data-Types-and-What_They_Mean.ipynb#X41sZmlsZQ%3D%3D?line=0'>1</a>\u001b[0m image \u001b[39m=\u001b[39m exposure\u001b[39m.\u001b[39mrescale_intensity(img_int32, out_range\u001b[39m=\u001b[39m(\u001b[39m0\u001b[39m, \u001b[39m2\u001b[39m\u001b[39m*\u001b[39m\u001b[39m*\u001b[39m\u001b[39m31\u001b[39m \u001b[39m-\u001b[39m\u001b[39m1\u001b[39m))\n\u001b[1;32m      <a href='vscode-notebook-cell:/Users/catherine/Human-Lens/scripts/Image-Data-Types-and-What_They_Mean.ipynb#X41sZmlsZQ%3D%3D?line=1'>2</a>\u001b[0m img_uint8 \u001b[39m=\u001b[39m img_as_ubyte(image)\n",
      "\u001b[0;31mNameError\u001b[0m: name 'exposure' is not defined"
     ]
    }
   ],
   "source": [
    "image = exposure.rescale_intensity(img_int32, out_range=(0, 2**31 -1))\n",
    "img_uint8 = img_as_ubyte(image)"
   ]
  }
 ],
 "metadata": {
  "kernelspec": {
   "display_name": "Python 3.9.13 64-bit",
   "language": "python",
   "name": "python3"
  },
  "language_info": {
   "codemirror_mode": {
    "name": "ipython",
    "version": 3
   },
   "file_extension": ".py",
   "mimetype": "text/x-python",
   "name": "python",
   "nbconvert_exporter": "python",
   "pygments_lexer": "ipython3",
   "version": "3.9.13"
  },
  "orig_nbformat": 4,
  "vscode": {
   "interpreter": {
    "hash": "aee8b7b246df8f9039afb4144a1f6fd8d2ca17a180786b69acc140d282b71a49"
   }
  }
 },
 "nbformat": 4,
 "nbformat_minor": 2
}
