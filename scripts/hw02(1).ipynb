{
 "cells": [
  {
   "cell_type": "markdown",
   "metadata": {
    "collapsed": false,
    "deletable": false,
    "editable": false,
    "nbgrader": {
     "grade": false,
     "grade_id": "cell-053f09c8a8a514e5",
     "locked": true,
     "schema_version": 3,
     "solution": false,
     "task": false
    }
   },
   "source": [
    "# Homework #2\n",
    "\n",
    "## PHYS 2600, Fall 2022\n",
    "\n",
    "__Important notice:__ All cells in your notebook will be run, start to finish, using a fresh kernel when it is graded!  To make sure the graded notebook looks like what you expect, we recommend selecting \"Kernel > Restart & Run All\" in the menu above before you finish.\n",
    "\n"
   ]
  },
  {
   "cell_type": "markdown",
   "metadata": {
    "collapsed": false,
    "deletable": false,
    "editable": false,
    "nbgrader": {
     "grade": false,
     "grade_id": "cell-06bff42e9e16d26f",
     "locked": true,
     "schema_version": 3,
     "solution": false,
     "task": false
    }
   },
   "source": [
    "If you worked collaboratively on this assignment, __include the names of your collaborators in the cell below:__"
   ]
  },
  {
   "cell_type": "markdown",
   "metadata": {
    "collapsed": false,
    "deletable": false,
    "nbgrader": {
     "cell_type": "markdown",
     "checksum": "bf975c650f0e1717a329b00eb2e5a613",
     "grade": true,
     "grade_id": "cell-6aad98798978a240",
     "locked": false,
     "points": 0,
     "schema_version": 3,
     "solution": true,
     "task": false
    }
   },
   "source": [
    "YOUR ANSWER HERE"
   ]
  },
  {
   "cell_type": "markdown",
   "metadata": {
    "collapsed": false,
    "deletable": false,
    "editable": false,
    "nbgrader": {
     "grade": false,
     "grade_id": "cell-7c8c42dd6e07ad5a",
     "locked": true,
     "schema_version": 3,
     "solution": false,
     "task": false
    }
   },
   "source": [
    "## 2.1 - Mistakes and formatting (6 points)"
   ]
  },
  {
   "cell_type": "markdown",
   "metadata": {
    "collapsed": false,
    "deletable": false,
    "editable": false,
    "nbgrader": {
     "grade": false,
     "grade_id": "cell-2e1d5ac5eeb2c94c",
     "locked": true,
     "schema_version": 3,
     "solution": false,
     "task": false
    }
   },
   "source": [
    "Consider the following program, which tries to verify that these two equations are correct:\n",
    "\n",
    "$$\n",
    "(a+b)^2 = a^2 + 2ab + b^2 \\\\\n",
    "(a-b)^2 = a^2 - 2ab + b^2\n",
    "$$\n",
    "\n",
    "for the values $a=3.3$ and $b=5.3$.\n",
    "\n",
    "```python\n",
    "a=3,3   b=5,3\n",
    "a2 = a**2\n",
    "b2 = b**2\n",
    "\n",
    "eq1_sum = a2 + 2ab + b2\n",
    "eq2_sum = a2 - 2ab - b2\n",
    "\n",
    "eq1_pow = (a + b)**2\n",
    "eq2_pow = (a - b)**2\n",
    "\n",
    "print(f'First equation: {eq1_sum:g} = {eq1_pow:g}')\n",
    "print(f'Second equation: {eq2_sum:h} = {eq2_pow:h}')\n",
    "```\n",
    "\n",
    "There are tons of mistakes in this program!  Copy the code into the cell below, then __fix the mistakes__ and run to verify the two equations."
   ]
  },
  {
   "cell_type": "code",
   "execution_count": 22,
   "metadata": {
    "collapsed": false,
    "deletable": false,
    "nbgrader": {
     "cell_type": "code",
     "checksum": "d70b8f762f70a2485f21769e53e1496e",
     "grade": true,
     "grade_id": "cell-73dc6f433ff4bab7",
     "locked": false,
     "points": 6,
     "schema_version": 3,
     "solution": true,
     "task": false
    }
   },
   "outputs": [
    {
     "name": "stdout",
     "output_type": "stream",
     "text": [
      "First equation: 73.96 = 73.96\n",
      "Second equation: 4 = 4\n"
     ]
    }
   ],
   "source": [
    "\n",
    "a = 3.3   \n",
    "b = 5.3\n",
    "a2 = a**2\n",
    "b2 = b**2\n",
    "\n",
    "eq1_sum = a2 + 2 * a * b + b2\n",
    "eq2_sum = a2 - (2 * a * b) + b2\n",
    "\n",
    "eq1_pow = ((a + b) ** 2)\n",
    "eq2_pow = ((a - b) ** 2)\n",
    "\n",
    "print(f'First equation: {eq1_sum:g} = {eq1_pow:g}')\n",
    "print(f'Second equation: {eq2_sum:g} = {eq2_pow:g}')\n"
   ]
  },
  {
   "cell_type": "markdown",
   "metadata": {
    "collapsed": false,
    "deletable": false,
    "editable": false,
    "nbgrader": {
     "grade": false,
     "grade_id": "cell-efa47c042c5c10b1",
     "locked": true,
     "schema_version": 3,
     "solution": false,
     "task": false
    }
   },
   "source": [
    "## 2.2 - Dealing with multiple arguments (6 points)\n",
    "\n",
    "This problem concerns some typical 'gotcha' behaviors of function arguments that can lead to potential confusion.  Here is a brief reminder of some behaviors of functions that we discussed:\n",
    "\n",
    "* Positional arguments given to a function are assigned in order to the argument names as in the `def...` statement.\n",
    "* Keyword arguments can be in _any_ order, and are assigned to matching argument names as in the `def...` statement.\n",
    "* A function call has its own __local scope__; any variable names inside are temporary and distinct from those in the original (global) scope.\n",
    "\n",
    "For each of the code examples below, __explain the question in the comment__.  If you get stuck, refer back to lecture and tutorial 6, and don't be afraid to use the [Python Tutor](http://www.pythontutor.com/visualize.html#mode=edit)!"
   ]
  },
  {
   "cell_type": "code",
   "execution_count": 15,
   "metadata": {
    "collapsed": false,
    "deletable": false,
    "editable": false,
    "nbgrader": {
     "grade": false,
     "grade_id": "cell-28c271efca1ae0de",
     "locked": true,
     "schema_version": 3,
     "solution": false,
     "task": false
    }
   },
   "outputs": [
    {
     "name": "stdout",
     "output_type": "stream",
     "text": [
      "3\n",
      "2\n"
     ]
    }
   ],
   "source": [
    "# Example A\n",
    "x = 2\n",
    "def H(x):\n",
    "    print(x)\n",
    "H(x=3)\n",
    "print(x)  ## Why doesn't this print 3? "
   ]
  },
  {
   "cell_type": "markdown",
   "metadata": {
    "collapsed": false,
    "deletable": false,
    "nbgrader": {
     "cell_type": "markdown",
     "checksum": "dcf41a3a93fa8b42fea83ae8f8dacc6b",
     "grade": true,
     "grade_id": "cell-c5263d42e84d426f",
     "locked": false,
     "points": 2,
     "schema_version": 3,
     "solution": true,
     "task": false
    }
   },
   "source": [
    "Because this x uses the global variable x nd not the local H variable x"
   ]
  },
  {
   "cell_type": "code",
   "execution_count": 16,
   "metadata": {
    "collapsed": false,
    "deletable": false,
    "editable": false,
    "nbgrader": {
     "grade": false,
     "grade_id": "cell-8d0ae37ad30af5bd",
     "locked": true,
     "schema_version": 3,
     "solution": false,
     "task": false
    }
   },
   "outputs": [
    {
     "name": "stdout",
     "output_type": "stream",
     "text": [
      "2 3\n"
     ]
    }
   ],
   "source": [
    "# Example B\n",
    "x = 2; y = 3\n",
    "def F(y,x):\n",
    "    print(y,x)\n",
    "\n",
    "F(x, y)  ## Why does this print 2 3, and not 3 2?"
   ]
  },
  {
   "cell_type": "markdown",
   "metadata": {
    "collapsed": false,
    "deletable": false,
    "nbgrader": {
     "cell_type": "markdown",
     "checksum": "a56e85683b96ccc5aa7ae9d571d619a2",
     "grade": true,
     "grade_id": "cell-483c01c7994d4b8e",
     "locked": false,
     "points": 2,
     "schema_version": 3,
     "solution": true,
     "task": false
    }
   },
   "source": [
    "Because you put the global variable x in the y position of the function, assigning it the value 2, and put the global variable y in the x position, assigning it the value 3."
   ]
  },
  {
   "cell_type": "code",
   "execution_count": 17,
   "metadata": {
    "collapsed": false
   },
   "outputs": [
    {
     "name": "stdout",
     "output_type": "stream",
     "text": [
      "2 3 2\n"
     ]
    }
   ],
   "source": [
    "# Example C\n",
    "x = 2; z = 3\n",
    "def G(x, y=1, z=2):\n",
    "    print(x,y,z)\n",
    "\n",
    "G(x, z)  ## Why does this print 2 3 2, and not 2 1 3?"
   ]
  },
  {
   "cell_type": "markdown",
   "metadata": {
    "collapsed": false,
    "deletable": false,
    "nbgrader": {
     "cell_type": "markdown",
     "checksum": "c4a6a8904c2dd871d554bba2fc308c84",
     "grade": true,
     "grade_id": "cell-ccf321d083974b26",
     "locked": false,
     "points": 2,
     "schema_version": 3,
     "solution": true,
     "task": false
    }
   },
   "source": [
    "G is using the global variable z which has the value 3. Because it is the second input, the computer sees it in the position of the y input in G (the second input), and G will default the third input (z) to what is defined: 2. "
   ]
  },
  {
   "cell_type": "markdown",
   "metadata": {
    "collapsed": false,
    "deletable": false,
    "editable": false,
    "nbgrader": {
     "grade": false,
     "grade_id": "cell-d40d3f41f7b0360a",
     "locked": true,
     "schema_version": 3,
     "solution": false,
     "task": false
    }
   },
   "source": [
    "## 2.3 - Strings in the lab (5 points)\n"
   ]
  },
  {
   "cell_type": "markdown",
   "metadata": {
    "collapsed": false,
    "deletable": false,
    "editable": false,
    "nbgrader": {
     "grade": false,
     "grade_id": "cell-a3791f39dbc04c55",
     "locked": true,
     "schema_version": 3,
     "solution": false,
     "task": false
    }
   },
   "source": [
    "You're working in a physics lab, recording some data from a tabletop experiment.  The experiment produces three numbers: a time-of-flight `t` in seconds, a polarization angle between $(-\\pi, \\pi)$ in radians, and a light frequency in Hz.\n",
    "\n",
    "In order to do further analysis on the raw data, your research advisor has asked you to write them out to a data file.  However, they want the data formatted in a very specific way:\n",
    "\n",
    "- The time should be in milliseconds, not seconds, and should be printed out to the nearest _micro_second (i.e. with three digits after the decimal point);\n",
    "- The angle should be shifted to be between $(0, 2\\pi)$ instead of $(-\\pi, \\pi)$, and then should be printed to three digits after the decimal;\n",
    "- The frequency should be printed in scientific notation, with four significant figures.\n",
    "\n",
    "Given the following measurements:\n",
    "\n",
    "- Time of flight = 0.00418834 s\n",
    "- Polarization angle = -0.1934 rad\n",
    "- Light frequency = 49120930018493 Hz\n",
    "\n",
    "__Make a string called `format_data`__ which contains the three numbers with formatting matching your advisor's request.  The three numbers should be printed in the order \"(time) (angle) (frequency)\", with a single space separating them.\n",
    "\n",
    "(So far we don't know how to actually write this out to a file - we'll cover that later - but if you were really doing this task in a lab, this formatting exercise would still be the first step!)"
   ]
  },
  {
   "cell_type": "code",
   "execution_count": 18,
   "metadata": {
    "collapsed": false,
    "deletable": false,
    "nbgrader": {
     "cell_type": "code",
     "checksum": "a1577c78ac65e2b38858c3b565b3c80f",
     "grade": false,
     "grade_id": "cell-bf158df8dd0c470d",
     "locked": false,
     "schema_version": 3,
     "solution": true,
     "task": false
    }
   },
   "outputs": [],
   "source": [
    "# YOUR CODE HERE\n",
    "from math import pi\n",
    "\n",
    "time = 0.00418834 # s\n",
    "angle = -0.1934 # rad\n",
    "frequency = 49120930018493 # Hz\n",
    "def format_data_function(time, angle, frequency):\n",
    "   time_milli = time * 10**-3\n",
    "   angle_pi = angle + pi\n",
    "\n",
    "   format_data = '{time_milli}, {angle_pi}, {frequency:.4g}'.format(time_milli=time_milli, angle_pi=angle_pi, frequency=frequency)\n",
    "   return format_data\n",
    "\n",
    "format_data = format_data_function(time, angle, frequency)\n",
    "   \n"
   ]
  },
  {
   "cell_type": "code",
   "execution_count": 19,
   "metadata": {
    "collapsed": false,
    "deletable": false,
    "editable": false,
    "nbgrader": {
     "grade": true,
     "grade_id": "cell-631934b45b48d8e5",
     "locked": true,
     "points": 5,
     "schema_version": 3,
     "solution": false,
     "task": false
    }
   },
   "outputs": [
    {
     "name": "stdout",
     "output_type": "stream",
     "text": [
      "4.18834e-06, 2.948192653589793, 4.912e+13\n"
     ]
    }
   ],
   "source": [
    "# Testing cell - do not delete me!\n",
    "\n",
    "print(format_data)\n",
    "assert type(format_data) == str\n",
    "\n",
    "# NOTE: the visible tests only make sure you created the string format_data.\n",
    "# Just because this cell runs without error, it doesn't mean your answer is right\n",
    "# - check it yourself against the requirements!!\n"
   ]
  },
  {
   "cell_type": "markdown",
   "metadata": {
    "collapsed": false,
    "deletable": false,
    "editable": false,
    "nbgrader": {
     "grade": false,
     "grade_id": "cell-6531c9ec9de5a4ad",
     "locked": true,
     "schema_version": 3,
     "solution": false,
     "task": false
    }
   },
   "source": [
    "## 2.4 \\- Simple projectile motion \\(5 points\\)\n",
    "\n"
   ]
  },
  {
   "cell_type": "markdown",
   "metadata": {
    "collapsed": false,
    "deletable": false,
    "editable": false,
    "nbgrader": {
     "grade": false,
     "grade_id": "cell-779204dbbfdf9f7b",
     "locked": true,
     "schema_version": 3,
     "solution": false,
     "task": false
    }
   },
   "source": [
    "From introductory mechanics, we know that the formula for the height of a ball which is thrown into the air with initial vertical speed $v_0$ is (ignoring air resistance):\n",
    "\n",
    "$$\n",
    "y(t) = y_0 + v_0 t - \\frac{1}{2} gt^2\n",
    "$$\n",
    "\n",
    "with $g = 9.8$ m/s${}^2$.  Going one step further, we expect that at some later time $t_f$, the ball will hit the ground.  The condition for this is, taking the ground to be at zero height, $y(t_f) = 0$.  We can use this to solve for $t_f$, finding\n",
    "\n",
    "$$\n",
    "t_f = \\frac{v_0 + \\sqrt{v_0^2 + 2gy_0}}{g}\n",
    "$$\n",
    "\n",
    "In the cell below, __implement a function called `time_of_flight()`.__  It should have the following features (this might be called a _specification_, which is a sort of contract as to what a function yet to be written should look like):\n",
    "\n",
    "- It should have one __required__ argument (positional), called `v_0`.\n",
    "- It should have two __optional__ arguments, in any order: `y_0` (default value: 0.0) and `g` (default value: 9.8.)\n",
    "- It should return `t_f` according to the formula above.\n",
    "\n",
    "To compute the square root, you can either import the `sqrt` function from the `math` module, or you can raise to the $0.5$ power.  (The `sqrt` function is much more efficient, but for a simple task like this, you won't notice any difference in speed!)"
   ]
  },
  {
   "cell_type": "code",
   "execution_count": 2,
   "metadata": {
    "collapsed": false,
    "deletable": false,
    "nbgrader": {
     "cell_type": "code",
     "checksum": "a451551be19bf97cb26aa9b7ea2fd77d",
     "grade": false,
     "grade_id": "cell-9e55289b55a580d6",
     "locked": false,
     "schema_version": 3,
     "solution": true,
     "task": false
    }
   },
   "outputs": [],
   "source": [
    "# YOUR CODE HERE\n",
    "from cmath import sqrt\n",
    "\n",
    "y_0 = 0.0\n",
    "g = 9.8\n",
    "\n",
    "def time_of_flight(v_0, y_0, g):\n",
    "    t_f = (v_0 + sqrt(v_0**2 + 2 * g * y_0)) / g\n",
    "\n",
    "    return t_f"
   ]
  },
  {
   "cell_type": "code",
   "execution_count": 3,
   "metadata": {
    "collapsed": false,
    "deletable": false,
    "editable": false,
    "nbgrader": {
     "grade": true,
     "grade_id": "cell-9e65a120ef01a246",
     "locked": true,
     "points": 5,
     "schema_version": 3,
     "solution": false,
     "task": false
    }
   },
   "outputs": [
    {
     "ename": "",
     "evalue": "",
     "output_type": "error",
     "traceback": [
      "\u001b[1;31mCanceled future for execute_request message before replies were done"
     ]
    },
    {
     "ename": "",
     "evalue": "",
     "output_type": "error",
     "traceback": [
      "\u001b[1;31mThe Kernel crashed while executing code in the the current cell or a previous cell. Please review the code in the cell(s) to identify a possible cause of the failure. Click <a href='https://aka.ms/vscodeJupyterKernelCrash'>here</a> for more info. View Jupyter <a href='command:jupyter.viewOutput'>log</a> for further details."
     ]
    }
   ],
   "source": [
    "## Testing cell\n",
    "\n",
    "import numpy.testing as npt\n",
    "\n",
    "npt.assert_allclose(time_of_flight(3.2), 0.653, atol=1e-3)\n",
    "npt.assert_allclose(time_of_flight(3.2, g=1.63), 3.926, atol=1e-3)  # Moon gravity instead of Earth\n",
    "npt.assert_allclose(time_of_flight(0.0), 0.0, atol=1e-3)  # y_0 = 0 and v_0 = 0 gives t_f = 0\n"
   ]
  },
  {
   "cell_type": "markdown",
   "metadata": {
    "collapsed": false,
    "deletable": false,
    "editable": false,
    "nbgrader": {
     "grade": false,
     "grade_id": "cell-2ece69f19ecd3631",
     "locked": true,
     "schema_version": 3,
     "solution": false,
     "task": false
    }
   },
   "source": [
    "## 2.5 - Intro to Markdown (8 points)\n",
    "\n",
    "Now that we've learned how to print things out nicely in Python, let's dive into the other way of writing nice text in Python, the Markdown markup language.  Markdown is ubiquitous on the internet; in particular, Wikipedia and other wikis use Markdown natively for notation.  WhatsApp uses a subset of Markdown for formatting, so you may have encountered it there.  And of course, almost all the class materials are written in Markdown!\n",
    "\n",
    "We'll start with the basics of Markdown notation, and cover math notation using MathJax another time.  A more complete Markdown cheat sheet is [available here](https://github.com/adam-p/markdown-here/wiki/Markdown-Cheatsheet).\n",
    "\n",
    "Start by double-clicking on the Markdown cell immediately below this one to see the Markdown source.  The actual problem appears in the cell after the big example."
   ]
  },
  {
   "cell_type": "markdown",
   "metadata": {
    "collapsed": false
   },
   "source": [
    "# Headings\n",
    "## Come\n",
    "### In\n",
    "#### Five\n",
    "##### Sizes\n",
    "###### (Sometimes six, but not in Jupyter)\n",
    "\n",
    "## Text emphasis\n",
    "\n",
    "We can add _emphasis_ to our text in a few different ways: _italic_, __bold__, or ~~strikethrough~~.  There are alternative ways to write *italic* and **bold** - we can mix them together to get _**bold** italics_.\n",
    "\n",
    "## Code\n",
    "\n",
    "Often we want to write Python code snippets in our Markdown blocks, which uses a special notation to get the gray highlighting and different font (called 'monotype' since the characters are all the same width): `print(\"Hello, world!\")`\n",
    "\n",
    "We can put multi-line code snippets in our Markdown, too:\n",
    "```\n",
    "x=1\n",
    "y=2\n",
    "print(x**y)\n",
    "```\n",
    "If we add the language name to the top, we can even get nice _syntax highlighting_, just like Jupyter does for us in the code cells!\n",
    "```python\n",
    "x=1\n",
    "y=2\n",
    "print(x**y)\n",
    "```\n",
    "\n",
    "## Lists\n",
    "\n",
    "Markdown is great at making both ordered and unordered lists in a natural way!  Write the ordered list with numbers:\n",
    "\n",
    "1. Total energy is always conserved.\n",
    "9. Entropy of an isolated system always increases.\n",
    "5. Entropy of an isolated system approaches a universal constant as T goes to absolute zero.\n",
    "\n",
    "Slightly counter-intuitive: Markdown doesn't care which numbers you use, or how you order them - it gives you a simple numbered list!  Unordered lists can be written with asterisks:\n",
    "\n",
    "* Bread\n",
    "* Eggs\n",
    "* Milk\n",
    "+ Yogurt\n",
    "- Bananas\n",
    "\n",
    "\n",
    "Dashes and plus signs are equally valid for unordered lists; you can even mix and match (as seen above.)\n",
    "\n",
    "## External links\n",
    "\n",
    "There's a complicated set of rules for adding all kinds of links to a Markdown document, but the simplest useful one is just linking to something external.  The syntax has two entries: the first is the _label_, and the second is the _link_.\n",
    "\n",
    "[This is a link to Google.](http://www.google.com)\n",
    "\n",
    "The link itself should be a valid URL - exactly what appears in your web browser bar when you load a page.  You can just copy directly out of the browser bar to grab a page link that you're looking at."
   ]
  },
  {
   "cell_type": "markdown",
   "metadata": {
    "collapsed": false,
    "deletable": false,
    "editable": false,
    "nbgrader": {
     "grade": false,
     "grade_id": "cell-33bf36f724fbe5f3",
     "locked": true,
     "schema_version": 3,
     "solution": false,
     "task": false
    }
   },
   "source": [
    "__Now the homework problem!__  Your mission is to give a brief explanation in Markdown, in your own words, of the principle of conservation of energy.  (If you need to jog your memory, this page might be helpful:)\n",
    "\n",
    "[https://cnx.org/contents/Ax2o07Ul@13.5:xa2wEvur@9/Conservation-of-Energy](https://cnx.org/contents/Ax2o07Ul@13.5:xa2wEvur@9/Conservation-of-Energy)\n",
    "\n",
    "To fully flex your Markdown muscle, __you must include the following in your explanation:__\n",
    "\n",
    "- One first-level header reading \"Conservation of Energy\";\n",
    "- Three second-level headers, reading \"The Law of Conservation of Energy\", \"Types of Energy\", and \"Examples of Energy Conversion\".\n",
    "- At least one example of each type of emphasis: bold, italic, and bold italic.\n",
    "- A list, ordered or unordered, containing three different examples of types of energy (your first can be \"kinetic energy\".)\n",
    "- An external link to the URL given above, with some text description.\n",
    "- A multi-line code example, showing a Python snippet which adds together the kinetic energy and gravitational potential energy for a 1 kg mass moving at 5 m/s, and at a height of 12 meters.\n",
    "\n",
    "\n"
   ]
  },
  {
   "cell_type": "markdown",
   "metadata": {
    "collapsed": false,
    "deletable": false,
    "nbgrader": {
     "cell_type": "markdown",
     "checksum": "53876363ad3dc6052b44373c05a3acc4",
     "grade": true,
     "grade_id": "cell-4ebb5e74ff0b0e94",
     "locked": false,
     "points": 8,
     "schema_version": 3,
     "solution": true,
     "task": false
    }
   },
   "source": [
    "# Conservation of Energy\n",
    "\n",
    "## The Law of Conservation of Energy\n",
    "The total energy must remain the same of a closed system must remain the same.\n",
    "\n",
    "## Types of Energy\n",
    "- Kinetic\n",
    "_Ex:_ **a moving truck**\n",
    "- Potential\n",
    "_Ex:_ **gravitational**, _**voltage**_\n",
    "\n",
    "[Read More] (https://openstax.org/books/college-physics/pages/7-6-conservation-of-energy)\n",
    "\n",
    "## Code\n",
    "```python \n",
    "\n",
    "m = 1 #kg\n",
    "v = 5 #m/s\n",
    "h = 12 #m\n",
    "\n",
    "def total_energy:\n",
    "    g = 9.8 #m/s**2\n",
    "    KE = 0.5 * m * v**2\n",
    "    GPE = m * g * h\n",
    "    E = KE + GPE\n",
    "    \n",
    "    return E\n",
    "```"
   ]
  },
  {
   "cell_type": "markdown",
   "metadata": {},
   "source": []
  }
 ],
 "metadata": {
  "celltoolbar": "Create Assignment",
  "kernelspec": {
   "display_name": "Python 3.9.12 ('base')",
   "language": "python",
   "name": "python3"
  },
  "language_info": {
   "codemirror_mode": {
    "name": "ipython",
    "version": 3
   },
   "file_extension": ".py",
   "mimetype": "text/x-python",
   "name": "python",
   "nbconvert_exporter": "python",
   "pygments_lexer": "ipython3",
   "version": "3.9.12"
  },
  "nbgrader": {
   "__altered": false,
   "__hash": 807890259,
   "_root": {
    "entries": [
     [
      "size",
      1
     ],
     [
      "_root",
      {
       "entries": [
        [
         "cocalc_minimal_stubs",
         true
        ]
       ],
       "ownerID": {}
      }
     ],
     [
      "__ownerID",
      null
     ],
     [
      "__hash",
      912286151
     ],
     [
      "__altered",
      false
     ],
     [
      "cocalc_minimal_stubs",
      true
     ]
    ],
    "ownerID": {}
   },
   "cocalc_minimal_stubs": true,
   "size": 6
  },
  "vscode": {
   "interpreter": {
    "hash": "9c6e31cb068c3e5c21b9b6961aa35e7cad860e7a5bf77ae881fbd44771f00aac"
   }
  }
 },
 "nbformat": 4,
 "nbformat_minor": 4
}
